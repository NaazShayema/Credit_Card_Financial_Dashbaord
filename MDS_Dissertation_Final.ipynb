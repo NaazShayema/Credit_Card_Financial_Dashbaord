{
  "cells": [
    {
      "cell_type": "markdown",
      "metadata": {
        "id": "view-in-github",
        "colab_type": "text"
      },
      "source": [
        "<a href=\"https://colab.research.google.com/github/NaazShayema/Credit_Card_Financial_Dashbaord/blob/main/MDS_Dissertation_Final.ipynb\" target=\"_parent\"><img src=\"https://colab.research.google.com/assets/colab-badge.svg\" alt=\"Open In Colab\"/></a>"
      ]
    },
    {
      "cell_type": "markdown",
      "metadata": {
        "id": "rXXbJIqS97Gv"
      },
      "source": [
        "**Neccessary packages**"
      ]
    },
    {
      "cell_type": "code",
      "execution_count": null,
      "metadata": {
        "id": "mb1R4PfgP_JQ"
      },
      "outputs": [],
      "source": [
        "import torch\n",
        "\n",
        "import copy\n",
        "import numpy as np\n",
        "import pandas as pd\n",
        "import seaborn as sns\n",
        "from pylab import rcParams\n",
        "import matplotlib.pyplot as plt\n",
        "from matplotlib import rc\n",
        "from sklearn.model_selection import train_test_split\n",
        "from tensorflow.keras.callbacks import ModelCheckpoint, EarlyStopping\n",
        "from tensorflow.keras.optimizers import Adam\n",
        "\n",
        "\n",
        "from torch import nn, optim\n",
        "\n",
        "import torch.nn.functional as F"
      ]
    },
    {
      "cell_type": "code",
      "execution_count": null,
      "metadata": {
        "id": "UTAb_q3HQJa5"
      },
      "outputs": [],
      "source": [
        "device = torch.device(\"cuda\" if torch.cuda.is_available() else \"cpu\")"
      ]
    },
    {
      "cell_type": "markdown",
      "metadata": {
        "id": "PrXRdUrQrrJE"
      },
      "source": [
        "**Dataset import**"
      ]
    },
    {
      "cell_type": "code",
      "execution_count": null,
      "metadata": {
        "id": "3LyDq1E2rpYj",
        "colab": {
          "base_uri": "https://localhost:8080/"
        },
        "outputId": "aa2b035a-e4a4-4e02-baa2-09c38c565917"
      },
      "outputs": [
        {
          "output_type": "stream",
          "name": "stdout",
          "text": [
            "Mounted at /content/drive\n"
          ]
        }
      ],
      "source": [
        "from google.colab import drive\n",
        "drive.mount('/content/drive')"
      ]
    },
    {
      "cell_type": "code",
      "execution_count": null,
      "metadata": {
        "id": "US_-RwopJBUh"
      },
      "outputs": [],
      "source": [
        "import pandas as pd\n",
        "\n",
        "# Load the CSV files\n",
        "interactive_df = pd.read_csv('/content/drive/MyDrive/Shayema_DP_Interaction_Final/Interactive_pair_with_features_1.csv')\n",
        "non_interactive_df = pd.read_csv('/content/drive/MyDrive/Datasets/D_P_Interaction/Non_Interactive_pair_with_features_20000.csv')\n",
        "\n",
        "\n",
        "# interactive_df = pd.read_csv('/content/drive/MyDrive/Shayema_DP_Interaction_Final/Interactive_pair_13_features_new.csv')\n",
        "# non_interactive_df = pd.read_csv('/content/drive/MyDrive/Datasets/D_P_Interaction/Non_Interactive_pair_with_(13+5)features_20000.csv')\n",
        "\n",
        "# interactive_df = pd.read_csv('Interactive_pair_with_features_1 (1).csv')\n",
        "# non_interactive_df = pd.read_csv('Non_Interactive_pair_with_features_20000.csv')\n",
        "\n",
        "# interactive_df = pd.read_csv('/content/drive/MyDrive/Shayema_DP_Interaction_Final/Interactive_pair_12_features_new.csv')\n",
        "# non_interactive_df = pd.read_csv('/content/drive/MyDrive/Datasets/D_P_Interaction/Non_Interactive_pair_with_(13+4)features_20000.csv')\n",
        "\n",
        "# interactive_df = pd.read_csv('/content/drive/MyDrive/Shayema_DP_Interaction_Final/Interactive_pair_9_features_new.csv')\n",
        "# non_interactive_df = pd.read_csv('/content/drive/MyDrive/Datasets/D_P_Interaction/Non_Interactive_pair_with_(5+4)features_20000.csv')\n",
        "\n"
      ]
    },
    {
      "cell_type": "markdown",
      "metadata": {
        "id": "uHXLddpiUVDC"
      },
      "source": [
        "**Data creation**"
      ]
    },
    {
      "cell_type": "code",
      "execution_count": null,
      "metadata": {
        "id": "9RsLLPaOScW4"
      },
      "outputs": [],
      "source": [
        "# Add the labels column\n",
        "interactive_df['labels'] = 1\n",
        "non_interactive_df['labels'] = 0\n",
        "\n",
        "# Combine the dataframes\n",
        "combined_df = pd.concat([interactive_df, non_interactive_df], ignore_index=True)\n",
        "\n",
        "# Save the combined dataframe to a new CSV file\n",
        "combined_df.to_csv('combined.csv', index=False)"
      ]
    },
    {
      "cell_type": "markdown",
      "metadata": {
        "id": "l0bl1jYhjS1X"
      },
      "source": [
        "**Drop the columns named as DrugBank_ID and  UniProt_ID and also lables**"
      ]
    },
    {
      "cell_type": "code",
      "execution_count": null,
      "metadata": {
        "colab": {
          "base_uri": "https://localhost:8080/",
          "height": 256
        },
        "id": "BF-kzivqiMF9",
        "outputId": "905b1076-3044-4297-ef07-a69af2d0d631"
      },
      "outputs": [
        {
          "output_type": "execute_result",
          "data": {
            "text/plain": [
              "  DrugBank_ID UniProt_ID  nA  nR  nN  nD  nC  nF  nQ  nE  ...  prop5.Tr1221  \\\n",
              "0     DB00006     P00734  15   1   1   1   0   0   0   4  ...             0   \n",
              "1     DB00170     P00734   0   0   0   0   0   0   0   0  ...             0   \n",
              "2     DB00278     P00734   2   1   0   0   0   0   0   0  ...             0   \n",
              "3     DB01123     P00734   0   0   0   0   0   0   0   0  ...             0   \n",
              "4     DB01593     P00734   0   0   0   0   0   0   0   0  ...             0   \n",
              "\n",
              "   prop5.Tr1331  prop5.Tr2332  prop6.Tr1221  prop6.Tr1331  prop6.Tr2332  \\\n",
              "0             0             0      0.198562      0.165376      0.265487   \n",
              "1             0             0      0.198562      0.165376      0.265487   \n",
              "2             0             0      0.198562      0.165376      0.265487   \n",
              "3             0             0      0.198562      0.165376      0.265487   \n",
              "4             0             0      0.198562      0.165376      0.265487   \n",
              "\n",
              "   prop7.Tr1221  prop7.Tr1331  prop7.Tr2332  labels  \n",
              "0           0.0      0.317478           0.0       1  \n",
              "1           0.0      0.317478           0.0       1  \n",
              "2           0.0      0.317478           0.0       1  \n",
              "3           0.0      0.317478           0.0       1  \n",
              "4           0.0      0.317478           0.0       1  \n",
              "\n",
              "[5 rows x 684 columns]"
            ],
            "text/html": [
              "\n",
              "  <div id=\"df-7787debb-6ce3-414e-839d-1f09f8a7370e\" class=\"colab-df-container\">\n",
              "    <div>\n",
              "<style scoped>\n",
              "    .dataframe tbody tr th:only-of-type {\n",
              "        vertical-align: middle;\n",
              "    }\n",
              "\n",
              "    .dataframe tbody tr th {\n",
              "        vertical-align: top;\n",
              "    }\n",
              "\n",
              "    .dataframe thead th {\n",
              "        text-align: right;\n",
              "    }\n",
              "</style>\n",
              "<table border=\"1\" class=\"dataframe\">\n",
              "  <thead>\n",
              "    <tr style=\"text-align: right;\">\n",
              "      <th></th>\n",
              "      <th>DrugBank_ID</th>\n",
              "      <th>UniProt_ID</th>\n",
              "      <th>nA</th>\n",
              "      <th>nR</th>\n",
              "      <th>nN</th>\n",
              "      <th>nD</th>\n",
              "      <th>nC</th>\n",
              "      <th>nF</th>\n",
              "      <th>nQ</th>\n",
              "      <th>nE</th>\n",
              "      <th>...</th>\n",
              "      <th>prop5.Tr1221</th>\n",
              "      <th>prop5.Tr1331</th>\n",
              "      <th>prop5.Tr2332</th>\n",
              "      <th>prop6.Tr1221</th>\n",
              "      <th>prop6.Tr1331</th>\n",
              "      <th>prop6.Tr2332</th>\n",
              "      <th>prop7.Tr1221</th>\n",
              "      <th>prop7.Tr1331</th>\n",
              "      <th>prop7.Tr2332</th>\n",
              "      <th>labels</th>\n",
              "    </tr>\n",
              "  </thead>\n",
              "  <tbody>\n",
              "    <tr>\n",
              "      <th>0</th>\n",
              "      <td>DB00006</td>\n",
              "      <td>P00734</td>\n",
              "      <td>15</td>\n",
              "      <td>1</td>\n",
              "      <td>1</td>\n",
              "      <td>1</td>\n",
              "      <td>0</td>\n",
              "      <td>0</td>\n",
              "      <td>0</td>\n",
              "      <td>4</td>\n",
              "      <td>...</td>\n",
              "      <td>0</td>\n",
              "      <td>0</td>\n",
              "      <td>0</td>\n",
              "      <td>0.198562</td>\n",
              "      <td>0.165376</td>\n",
              "      <td>0.265487</td>\n",
              "      <td>0.0</td>\n",
              "      <td>0.317478</td>\n",
              "      <td>0.0</td>\n",
              "      <td>1</td>\n",
              "    </tr>\n",
              "    <tr>\n",
              "      <th>1</th>\n",
              "      <td>DB00170</td>\n",
              "      <td>P00734</td>\n",
              "      <td>0</td>\n",
              "      <td>0</td>\n",
              "      <td>0</td>\n",
              "      <td>0</td>\n",
              "      <td>0</td>\n",
              "      <td>0</td>\n",
              "      <td>0</td>\n",
              "      <td>0</td>\n",
              "      <td>...</td>\n",
              "      <td>0</td>\n",
              "      <td>0</td>\n",
              "      <td>0</td>\n",
              "      <td>0.198562</td>\n",
              "      <td>0.165376</td>\n",
              "      <td>0.265487</td>\n",
              "      <td>0.0</td>\n",
              "      <td>0.317478</td>\n",
              "      <td>0.0</td>\n",
              "      <td>1</td>\n",
              "    </tr>\n",
              "    <tr>\n",
              "      <th>2</th>\n",
              "      <td>DB00278</td>\n",
              "      <td>P00734</td>\n",
              "      <td>2</td>\n",
              "      <td>1</td>\n",
              "      <td>0</td>\n",
              "      <td>0</td>\n",
              "      <td>0</td>\n",
              "      <td>0</td>\n",
              "      <td>0</td>\n",
              "      <td>0</td>\n",
              "      <td>...</td>\n",
              "      <td>0</td>\n",
              "      <td>0</td>\n",
              "      <td>0</td>\n",
              "      <td>0.198562</td>\n",
              "      <td>0.165376</td>\n",
              "      <td>0.265487</td>\n",
              "      <td>0.0</td>\n",
              "      <td>0.317478</td>\n",
              "      <td>0.0</td>\n",
              "      <td>1</td>\n",
              "    </tr>\n",
              "    <tr>\n",
              "      <th>3</th>\n",
              "      <td>DB01123</td>\n",
              "      <td>P00734</td>\n",
              "      <td>0</td>\n",
              "      <td>0</td>\n",
              "      <td>0</td>\n",
              "      <td>0</td>\n",
              "      <td>0</td>\n",
              "      <td>0</td>\n",
              "      <td>0</td>\n",
              "      <td>0</td>\n",
              "      <td>...</td>\n",
              "      <td>0</td>\n",
              "      <td>0</td>\n",
              "      <td>0</td>\n",
              "      <td>0.198562</td>\n",
              "      <td>0.165376</td>\n",
              "      <td>0.265487</td>\n",
              "      <td>0.0</td>\n",
              "      <td>0.317478</td>\n",
              "      <td>0.0</td>\n",
              "      <td>1</td>\n",
              "    </tr>\n",
              "    <tr>\n",
              "      <th>4</th>\n",
              "      <td>DB01593</td>\n",
              "      <td>P00734</td>\n",
              "      <td>0</td>\n",
              "      <td>0</td>\n",
              "      <td>0</td>\n",
              "      <td>0</td>\n",
              "      <td>0</td>\n",
              "      <td>0</td>\n",
              "      <td>0</td>\n",
              "      <td>0</td>\n",
              "      <td>...</td>\n",
              "      <td>0</td>\n",
              "      <td>0</td>\n",
              "      <td>0</td>\n",
              "      <td>0.198562</td>\n",
              "      <td>0.165376</td>\n",
              "      <td>0.265487</td>\n",
              "      <td>0.0</td>\n",
              "      <td>0.317478</td>\n",
              "      <td>0.0</td>\n",
              "      <td>1</td>\n",
              "    </tr>\n",
              "  </tbody>\n",
              "</table>\n",
              "<p>5 rows × 684 columns</p>\n",
              "</div>\n",
              "    <div class=\"colab-df-buttons\">\n",
              "\n",
              "  <div class=\"colab-df-container\">\n",
              "    <button class=\"colab-df-convert\" onclick=\"convertToInteractive('df-7787debb-6ce3-414e-839d-1f09f8a7370e')\"\n",
              "            title=\"Convert this dataframe to an interactive table.\"\n",
              "            style=\"display:none;\">\n",
              "\n",
              "  <svg xmlns=\"http://www.w3.org/2000/svg\" height=\"24px\" viewBox=\"0 -960 960 960\">\n",
              "    <path d=\"M120-120v-720h720v720H120Zm60-500h600v-160H180v160Zm220 220h160v-160H400v160Zm0 220h160v-160H400v160ZM180-400h160v-160H180v160Zm440 0h160v-160H620v160ZM180-180h160v-160H180v160Zm440 0h160v-160H620v160Z\"/>\n",
              "  </svg>\n",
              "    </button>\n",
              "\n",
              "  <style>\n",
              "    .colab-df-container {\n",
              "      display:flex;\n",
              "      gap: 12px;\n",
              "    }\n",
              "\n",
              "    .colab-df-convert {\n",
              "      background-color: #E8F0FE;\n",
              "      border: none;\n",
              "      border-radius: 50%;\n",
              "      cursor: pointer;\n",
              "      display: none;\n",
              "      fill: #1967D2;\n",
              "      height: 32px;\n",
              "      padding: 0 0 0 0;\n",
              "      width: 32px;\n",
              "    }\n",
              "\n",
              "    .colab-df-convert:hover {\n",
              "      background-color: #E2EBFA;\n",
              "      box-shadow: 0px 1px 2px rgba(60, 64, 67, 0.3), 0px 1px 3px 1px rgba(60, 64, 67, 0.15);\n",
              "      fill: #174EA6;\n",
              "    }\n",
              "\n",
              "    .colab-df-buttons div {\n",
              "      margin-bottom: 4px;\n",
              "    }\n",
              "\n",
              "    [theme=dark] .colab-df-convert {\n",
              "      background-color: #3B4455;\n",
              "      fill: #D2E3FC;\n",
              "    }\n",
              "\n",
              "    [theme=dark] .colab-df-convert:hover {\n",
              "      background-color: #434B5C;\n",
              "      box-shadow: 0px 1px 3px 1px rgba(0, 0, 0, 0.15);\n",
              "      filter: drop-shadow(0px 1px 2px rgba(0, 0, 0, 0.3));\n",
              "      fill: #FFFFFF;\n",
              "    }\n",
              "  </style>\n",
              "\n",
              "    <script>\n",
              "      const buttonEl =\n",
              "        document.querySelector('#df-7787debb-6ce3-414e-839d-1f09f8a7370e button.colab-df-convert');\n",
              "      buttonEl.style.display =\n",
              "        google.colab.kernel.accessAllowed ? 'block' : 'none';\n",
              "\n",
              "      async function convertToInteractive(key) {\n",
              "        const element = document.querySelector('#df-7787debb-6ce3-414e-839d-1f09f8a7370e');\n",
              "        const dataTable =\n",
              "          await google.colab.kernel.invokeFunction('convertToInteractive',\n",
              "                                                    [key], {});\n",
              "        if (!dataTable) return;\n",
              "\n",
              "        const docLinkHtml = 'Like what you see? Visit the ' +\n",
              "          '<a target=\"_blank\" href=https://colab.research.google.com/notebooks/data_table.ipynb>data table notebook</a>'\n",
              "          + ' to learn more about interactive tables.';\n",
              "        element.innerHTML = '';\n",
              "        dataTable['output_type'] = 'display_data';\n",
              "        await google.colab.output.renderOutput(dataTable, element);\n",
              "        const docLink = document.createElement('div');\n",
              "        docLink.innerHTML = docLinkHtml;\n",
              "        element.appendChild(docLink);\n",
              "      }\n",
              "    </script>\n",
              "  </div>\n",
              "\n",
              "\n",
              "<div id=\"df-53899c90-5475-48f1-9de6-a462dc97b81f\">\n",
              "  <button class=\"colab-df-quickchart\" onclick=\"quickchart('df-53899c90-5475-48f1-9de6-a462dc97b81f')\"\n",
              "            title=\"Suggest charts\"\n",
              "            style=\"display:none;\">\n",
              "\n",
              "<svg xmlns=\"http://www.w3.org/2000/svg\" height=\"24px\"viewBox=\"0 0 24 24\"\n",
              "     width=\"24px\">\n",
              "    <g>\n",
              "        <path d=\"M19 3H5c-1.1 0-2 .9-2 2v14c0 1.1.9 2 2 2h14c1.1 0 2-.9 2-2V5c0-1.1-.9-2-2-2zM9 17H7v-7h2v7zm4 0h-2V7h2v10zm4 0h-2v-4h2v4z\"/>\n",
              "    </g>\n",
              "</svg>\n",
              "  </button>\n",
              "\n",
              "<style>\n",
              "  .colab-df-quickchart {\n",
              "      --bg-color: #E8F0FE;\n",
              "      --fill-color: #1967D2;\n",
              "      --hover-bg-color: #E2EBFA;\n",
              "      --hover-fill-color: #174EA6;\n",
              "      --disabled-fill-color: #AAA;\n",
              "      --disabled-bg-color: #DDD;\n",
              "  }\n",
              "\n",
              "  [theme=dark] .colab-df-quickchart {\n",
              "      --bg-color: #3B4455;\n",
              "      --fill-color: #D2E3FC;\n",
              "      --hover-bg-color: #434B5C;\n",
              "      --hover-fill-color: #FFFFFF;\n",
              "      --disabled-bg-color: #3B4455;\n",
              "      --disabled-fill-color: #666;\n",
              "  }\n",
              "\n",
              "  .colab-df-quickchart {\n",
              "    background-color: var(--bg-color);\n",
              "    border: none;\n",
              "    border-radius: 50%;\n",
              "    cursor: pointer;\n",
              "    display: none;\n",
              "    fill: var(--fill-color);\n",
              "    height: 32px;\n",
              "    padding: 0;\n",
              "    width: 32px;\n",
              "  }\n",
              "\n",
              "  .colab-df-quickchart:hover {\n",
              "    background-color: var(--hover-bg-color);\n",
              "    box-shadow: 0 1px 2px rgba(60, 64, 67, 0.3), 0 1px 3px 1px rgba(60, 64, 67, 0.15);\n",
              "    fill: var(--button-hover-fill-color);\n",
              "  }\n",
              "\n",
              "  .colab-df-quickchart-complete:disabled,\n",
              "  .colab-df-quickchart-complete:disabled:hover {\n",
              "    background-color: var(--disabled-bg-color);\n",
              "    fill: var(--disabled-fill-color);\n",
              "    box-shadow: none;\n",
              "  }\n",
              "\n",
              "  .colab-df-spinner {\n",
              "    border: 2px solid var(--fill-color);\n",
              "    border-color: transparent;\n",
              "    border-bottom-color: var(--fill-color);\n",
              "    animation:\n",
              "      spin 1s steps(1) infinite;\n",
              "  }\n",
              "\n",
              "  @keyframes spin {\n",
              "    0% {\n",
              "      border-color: transparent;\n",
              "      border-bottom-color: var(--fill-color);\n",
              "      border-left-color: var(--fill-color);\n",
              "    }\n",
              "    20% {\n",
              "      border-color: transparent;\n",
              "      border-left-color: var(--fill-color);\n",
              "      border-top-color: var(--fill-color);\n",
              "    }\n",
              "    30% {\n",
              "      border-color: transparent;\n",
              "      border-left-color: var(--fill-color);\n",
              "      border-top-color: var(--fill-color);\n",
              "      border-right-color: var(--fill-color);\n",
              "    }\n",
              "    40% {\n",
              "      border-color: transparent;\n",
              "      border-right-color: var(--fill-color);\n",
              "      border-top-color: var(--fill-color);\n",
              "    }\n",
              "    60% {\n",
              "      border-color: transparent;\n",
              "      border-right-color: var(--fill-color);\n",
              "    }\n",
              "    80% {\n",
              "      border-color: transparent;\n",
              "      border-right-color: var(--fill-color);\n",
              "      border-bottom-color: var(--fill-color);\n",
              "    }\n",
              "    90% {\n",
              "      border-color: transparent;\n",
              "      border-bottom-color: var(--fill-color);\n",
              "    }\n",
              "  }\n",
              "</style>\n",
              "\n",
              "  <script>\n",
              "    async function quickchart(key) {\n",
              "      const quickchartButtonEl =\n",
              "        document.querySelector('#' + key + ' button');\n",
              "      quickchartButtonEl.disabled = true;  // To prevent multiple clicks.\n",
              "      quickchartButtonEl.classList.add('colab-df-spinner');\n",
              "      try {\n",
              "        const charts = await google.colab.kernel.invokeFunction(\n",
              "            'suggestCharts', [key], {});\n",
              "      } catch (error) {\n",
              "        console.error('Error during call to suggestCharts:', error);\n",
              "      }\n",
              "      quickchartButtonEl.classList.remove('colab-df-spinner');\n",
              "      quickchartButtonEl.classList.add('colab-df-quickchart-complete');\n",
              "    }\n",
              "    (() => {\n",
              "      let quickchartButtonEl =\n",
              "        document.querySelector('#df-53899c90-5475-48f1-9de6-a462dc97b81f button');\n",
              "      quickchartButtonEl.style.display =\n",
              "        google.colab.kernel.accessAllowed ? 'block' : 'none';\n",
              "    })();\n",
              "  </script>\n",
              "</div>\n",
              "\n",
              "    </div>\n",
              "  </div>\n"
            ],
            "application/vnd.google.colaboratory.intrinsic+json": {
              "type": "dataframe",
              "variable_name": "combined_df"
            }
          },
          "metadata": {},
          "execution_count": 7
        }
      ],
      "source": [
        "combined_df.head()"
      ]
    },
    {
      "cell_type": "code",
      "execution_count": null,
      "metadata": {
        "colab": {
          "base_uri": "https://localhost:8080/"
        },
        "id": "bg39DFOClzmo",
        "outputId": "6b587091-c818-4fa6-a8ed-cd9b004a115e"
      },
      "outputs": [
        {
          "output_type": "stream",
          "name": "stdout",
          "text": [
            "Index(['DrugBank_ID', 'UniProt_ID', 'nA', 'nR', 'nN', 'nD', 'nC', 'nF', 'nQ',\n",
            "       'nE',\n",
            "       ...\n",
            "       'prop5.Tr1221', 'prop5.Tr1331', 'prop5.Tr2332', 'prop6.Tr1221',\n",
            "       'prop6.Tr1331', 'prop6.Tr2332', 'prop7.Tr1221', 'prop7.Tr1331',\n",
            "       'prop7.Tr2332', 'labels'],\n",
            "      dtype='object', length=684)\n"
          ]
        }
      ],
      "source": [
        "# Check if the column name is spelled correctly\n",
        "print(combined_df.columns)"
      ]
    },
    {
      "cell_type": "code",
      "execution_count": null,
      "metadata": {
        "colab": {
          "base_uri": "https://localhost:8080/",
          "height": 256
        },
        "id": "AgJ8TEj8bnDQ",
        "outputId": "2197d803-e16f-4e87-f01a-fbc5b83fef60"
      },
      "outputs": [
        {
          "output_type": "execute_result",
          "data": {
            "text/plain": [
              "   nA  nR  nN  nD  nC  nF  nQ  nE  nG  nH  ...  prop5.Tr1221  prop5.Tr1331  \\\n",
              "0  15   1   1   1   0   0   0   4  20   0  ...             0             0   \n",
              "1   0   0   0   0   0   0   0   0   0   0  ...             0             0   \n",
              "2   2   1   0   0   0   0   0   0   2   0  ...             0             0   \n",
              "3   0   0   0   0   0   0   0   0   0   0  ...             0             0   \n",
              "4   0   0   0   0   0   0   0   0   0   0  ...             0             0   \n",
              "\n",
              "   prop5.Tr2332  prop6.Tr1221  prop6.Tr1331  prop6.Tr2332  prop7.Tr1221  \\\n",
              "0             0      0.198562      0.165376      0.265487           0.0   \n",
              "1             0      0.198562      0.165376      0.265487           0.0   \n",
              "2             0      0.198562      0.165376      0.265487           0.0   \n",
              "3             0      0.198562      0.165376      0.265487           0.0   \n",
              "4             0      0.198562      0.165376      0.265487           0.0   \n",
              "\n",
              "   prop7.Tr1331  prop7.Tr2332  labels  \n",
              "0      0.317478           0.0       1  \n",
              "1      0.317478           0.0       1  \n",
              "2      0.317478           0.0       1  \n",
              "3      0.317478           0.0       1  \n",
              "4      0.317478           0.0       1  \n",
              "\n",
              "[5 rows x 682 columns]"
            ],
            "text/html": [
              "\n",
              "  <div id=\"df-5a3bc137-5c95-4c05-95cb-0dac6314c537\" class=\"colab-df-container\">\n",
              "    <div>\n",
              "<style scoped>\n",
              "    .dataframe tbody tr th:only-of-type {\n",
              "        vertical-align: middle;\n",
              "    }\n",
              "\n",
              "    .dataframe tbody tr th {\n",
              "        vertical-align: top;\n",
              "    }\n",
              "\n",
              "    .dataframe thead th {\n",
              "        text-align: right;\n",
              "    }\n",
              "</style>\n",
              "<table border=\"1\" class=\"dataframe\">\n",
              "  <thead>\n",
              "    <tr style=\"text-align: right;\">\n",
              "      <th></th>\n",
              "      <th>nA</th>\n",
              "      <th>nR</th>\n",
              "      <th>nN</th>\n",
              "      <th>nD</th>\n",
              "      <th>nC</th>\n",
              "      <th>nF</th>\n",
              "      <th>nQ</th>\n",
              "      <th>nE</th>\n",
              "      <th>nG</th>\n",
              "      <th>nH</th>\n",
              "      <th>...</th>\n",
              "      <th>prop5.Tr1221</th>\n",
              "      <th>prop5.Tr1331</th>\n",
              "      <th>prop5.Tr2332</th>\n",
              "      <th>prop6.Tr1221</th>\n",
              "      <th>prop6.Tr1331</th>\n",
              "      <th>prop6.Tr2332</th>\n",
              "      <th>prop7.Tr1221</th>\n",
              "      <th>prop7.Tr1331</th>\n",
              "      <th>prop7.Tr2332</th>\n",
              "      <th>labels</th>\n",
              "    </tr>\n",
              "  </thead>\n",
              "  <tbody>\n",
              "    <tr>\n",
              "      <th>0</th>\n",
              "      <td>15</td>\n",
              "      <td>1</td>\n",
              "      <td>1</td>\n",
              "      <td>1</td>\n",
              "      <td>0</td>\n",
              "      <td>0</td>\n",
              "      <td>0</td>\n",
              "      <td>4</td>\n",
              "      <td>20</td>\n",
              "      <td>0</td>\n",
              "      <td>...</td>\n",
              "      <td>0</td>\n",
              "      <td>0</td>\n",
              "      <td>0</td>\n",
              "      <td>0.198562</td>\n",
              "      <td>0.165376</td>\n",
              "      <td>0.265487</td>\n",
              "      <td>0.0</td>\n",
              "      <td>0.317478</td>\n",
              "      <td>0.0</td>\n",
              "      <td>1</td>\n",
              "    </tr>\n",
              "    <tr>\n",
              "      <th>1</th>\n",
              "      <td>0</td>\n",
              "      <td>0</td>\n",
              "      <td>0</td>\n",
              "      <td>0</td>\n",
              "      <td>0</td>\n",
              "      <td>0</td>\n",
              "      <td>0</td>\n",
              "      <td>0</td>\n",
              "      <td>0</td>\n",
              "      <td>0</td>\n",
              "      <td>...</td>\n",
              "      <td>0</td>\n",
              "      <td>0</td>\n",
              "      <td>0</td>\n",
              "      <td>0.198562</td>\n",
              "      <td>0.165376</td>\n",
              "      <td>0.265487</td>\n",
              "      <td>0.0</td>\n",
              "      <td>0.317478</td>\n",
              "      <td>0.0</td>\n",
              "      <td>1</td>\n",
              "    </tr>\n",
              "    <tr>\n",
              "      <th>2</th>\n",
              "      <td>2</td>\n",
              "      <td>1</td>\n",
              "      <td>0</td>\n",
              "      <td>0</td>\n",
              "      <td>0</td>\n",
              "      <td>0</td>\n",
              "      <td>0</td>\n",
              "      <td>0</td>\n",
              "      <td>2</td>\n",
              "      <td>0</td>\n",
              "      <td>...</td>\n",
              "      <td>0</td>\n",
              "      <td>0</td>\n",
              "      <td>0</td>\n",
              "      <td>0.198562</td>\n",
              "      <td>0.165376</td>\n",
              "      <td>0.265487</td>\n",
              "      <td>0.0</td>\n",
              "      <td>0.317478</td>\n",
              "      <td>0.0</td>\n",
              "      <td>1</td>\n",
              "    </tr>\n",
              "    <tr>\n",
              "      <th>3</th>\n",
              "      <td>0</td>\n",
              "      <td>0</td>\n",
              "      <td>0</td>\n",
              "      <td>0</td>\n",
              "      <td>0</td>\n",
              "      <td>0</td>\n",
              "      <td>0</td>\n",
              "      <td>0</td>\n",
              "      <td>0</td>\n",
              "      <td>0</td>\n",
              "      <td>...</td>\n",
              "      <td>0</td>\n",
              "      <td>0</td>\n",
              "      <td>0</td>\n",
              "      <td>0.198562</td>\n",
              "      <td>0.165376</td>\n",
              "      <td>0.265487</td>\n",
              "      <td>0.0</td>\n",
              "      <td>0.317478</td>\n",
              "      <td>0.0</td>\n",
              "      <td>1</td>\n",
              "    </tr>\n",
              "    <tr>\n",
              "      <th>4</th>\n",
              "      <td>0</td>\n",
              "      <td>0</td>\n",
              "      <td>0</td>\n",
              "      <td>0</td>\n",
              "      <td>0</td>\n",
              "      <td>0</td>\n",
              "      <td>0</td>\n",
              "      <td>0</td>\n",
              "      <td>0</td>\n",
              "      <td>0</td>\n",
              "      <td>...</td>\n",
              "      <td>0</td>\n",
              "      <td>0</td>\n",
              "      <td>0</td>\n",
              "      <td>0.198562</td>\n",
              "      <td>0.165376</td>\n",
              "      <td>0.265487</td>\n",
              "      <td>0.0</td>\n",
              "      <td>0.317478</td>\n",
              "      <td>0.0</td>\n",
              "      <td>1</td>\n",
              "    </tr>\n",
              "  </tbody>\n",
              "</table>\n",
              "<p>5 rows × 682 columns</p>\n",
              "</div>\n",
              "    <div class=\"colab-df-buttons\">\n",
              "\n",
              "  <div class=\"colab-df-container\">\n",
              "    <button class=\"colab-df-convert\" onclick=\"convertToInteractive('df-5a3bc137-5c95-4c05-95cb-0dac6314c537')\"\n",
              "            title=\"Convert this dataframe to an interactive table.\"\n",
              "            style=\"display:none;\">\n",
              "\n",
              "  <svg xmlns=\"http://www.w3.org/2000/svg\" height=\"24px\" viewBox=\"0 -960 960 960\">\n",
              "    <path d=\"M120-120v-720h720v720H120Zm60-500h600v-160H180v160Zm220 220h160v-160H400v160Zm0 220h160v-160H400v160ZM180-400h160v-160H180v160Zm440 0h160v-160H620v160ZM180-180h160v-160H180v160Zm440 0h160v-160H620v160Z\"/>\n",
              "  </svg>\n",
              "    </button>\n",
              "\n",
              "  <style>\n",
              "    .colab-df-container {\n",
              "      display:flex;\n",
              "      gap: 12px;\n",
              "    }\n",
              "\n",
              "    .colab-df-convert {\n",
              "      background-color: #E8F0FE;\n",
              "      border: none;\n",
              "      border-radius: 50%;\n",
              "      cursor: pointer;\n",
              "      display: none;\n",
              "      fill: #1967D2;\n",
              "      height: 32px;\n",
              "      padding: 0 0 0 0;\n",
              "      width: 32px;\n",
              "    }\n",
              "\n",
              "    .colab-df-convert:hover {\n",
              "      background-color: #E2EBFA;\n",
              "      box-shadow: 0px 1px 2px rgba(60, 64, 67, 0.3), 0px 1px 3px 1px rgba(60, 64, 67, 0.15);\n",
              "      fill: #174EA6;\n",
              "    }\n",
              "\n",
              "    .colab-df-buttons div {\n",
              "      margin-bottom: 4px;\n",
              "    }\n",
              "\n",
              "    [theme=dark] .colab-df-convert {\n",
              "      background-color: #3B4455;\n",
              "      fill: #D2E3FC;\n",
              "    }\n",
              "\n",
              "    [theme=dark] .colab-df-convert:hover {\n",
              "      background-color: #434B5C;\n",
              "      box-shadow: 0px 1px 3px 1px rgba(0, 0, 0, 0.15);\n",
              "      filter: drop-shadow(0px 1px 2px rgba(0, 0, 0, 0.3));\n",
              "      fill: #FFFFFF;\n",
              "    }\n",
              "  </style>\n",
              "\n",
              "    <script>\n",
              "      const buttonEl =\n",
              "        document.querySelector('#df-5a3bc137-5c95-4c05-95cb-0dac6314c537 button.colab-df-convert');\n",
              "      buttonEl.style.display =\n",
              "        google.colab.kernel.accessAllowed ? 'block' : 'none';\n",
              "\n",
              "      async function convertToInteractive(key) {\n",
              "        const element = document.querySelector('#df-5a3bc137-5c95-4c05-95cb-0dac6314c537');\n",
              "        const dataTable =\n",
              "          await google.colab.kernel.invokeFunction('convertToInteractive',\n",
              "                                                    [key], {});\n",
              "        if (!dataTable) return;\n",
              "\n",
              "        const docLinkHtml = 'Like what you see? Visit the ' +\n",
              "          '<a target=\"_blank\" href=https://colab.research.google.com/notebooks/data_table.ipynb>data table notebook</a>'\n",
              "          + ' to learn more about interactive tables.';\n",
              "        element.innerHTML = '';\n",
              "        dataTable['output_type'] = 'display_data';\n",
              "        await google.colab.output.renderOutput(dataTable, element);\n",
              "        const docLink = document.createElement('div');\n",
              "        docLink.innerHTML = docLinkHtml;\n",
              "        element.appendChild(docLink);\n",
              "      }\n",
              "    </script>\n",
              "  </div>\n",
              "\n",
              "\n",
              "<div id=\"df-adaeb398-47bc-4033-ae77-2721b3552b09\">\n",
              "  <button class=\"colab-df-quickchart\" onclick=\"quickchart('df-adaeb398-47bc-4033-ae77-2721b3552b09')\"\n",
              "            title=\"Suggest charts\"\n",
              "            style=\"display:none;\">\n",
              "\n",
              "<svg xmlns=\"http://www.w3.org/2000/svg\" height=\"24px\"viewBox=\"0 0 24 24\"\n",
              "     width=\"24px\">\n",
              "    <g>\n",
              "        <path d=\"M19 3H5c-1.1 0-2 .9-2 2v14c0 1.1.9 2 2 2h14c1.1 0 2-.9 2-2V5c0-1.1-.9-2-2-2zM9 17H7v-7h2v7zm4 0h-2V7h2v10zm4 0h-2v-4h2v4z\"/>\n",
              "    </g>\n",
              "</svg>\n",
              "  </button>\n",
              "\n",
              "<style>\n",
              "  .colab-df-quickchart {\n",
              "      --bg-color: #E8F0FE;\n",
              "      --fill-color: #1967D2;\n",
              "      --hover-bg-color: #E2EBFA;\n",
              "      --hover-fill-color: #174EA6;\n",
              "      --disabled-fill-color: #AAA;\n",
              "      --disabled-bg-color: #DDD;\n",
              "  }\n",
              "\n",
              "  [theme=dark] .colab-df-quickchart {\n",
              "      --bg-color: #3B4455;\n",
              "      --fill-color: #D2E3FC;\n",
              "      --hover-bg-color: #434B5C;\n",
              "      --hover-fill-color: #FFFFFF;\n",
              "      --disabled-bg-color: #3B4455;\n",
              "      --disabled-fill-color: #666;\n",
              "  }\n",
              "\n",
              "  .colab-df-quickchart {\n",
              "    background-color: var(--bg-color);\n",
              "    border: none;\n",
              "    border-radius: 50%;\n",
              "    cursor: pointer;\n",
              "    display: none;\n",
              "    fill: var(--fill-color);\n",
              "    height: 32px;\n",
              "    padding: 0;\n",
              "    width: 32px;\n",
              "  }\n",
              "\n",
              "  .colab-df-quickchart:hover {\n",
              "    background-color: var(--hover-bg-color);\n",
              "    box-shadow: 0 1px 2px rgba(60, 64, 67, 0.3), 0 1px 3px 1px rgba(60, 64, 67, 0.15);\n",
              "    fill: var(--button-hover-fill-color);\n",
              "  }\n",
              "\n",
              "  .colab-df-quickchart-complete:disabled,\n",
              "  .colab-df-quickchart-complete:disabled:hover {\n",
              "    background-color: var(--disabled-bg-color);\n",
              "    fill: var(--disabled-fill-color);\n",
              "    box-shadow: none;\n",
              "  }\n",
              "\n",
              "  .colab-df-spinner {\n",
              "    border: 2px solid var(--fill-color);\n",
              "    border-color: transparent;\n",
              "    border-bottom-color: var(--fill-color);\n",
              "    animation:\n",
              "      spin 1s steps(1) infinite;\n",
              "  }\n",
              "\n",
              "  @keyframes spin {\n",
              "    0% {\n",
              "      border-color: transparent;\n",
              "      border-bottom-color: var(--fill-color);\n",
              "      border-left-color: var(--fill-color);\n",
              "    }\n",
              "    20% {\n",
              "      border-color: transparent;\n",
              "      border-left-color: var(--fill-color);\n",
              "      border-top-color: var(--fill-color);\n",
              "    }\n",
              "    30% {\n",
              "      border-color: transparent;\n",
              "      border-left-color: var(--fill-color);\n",
              "      border-top-color: var(--fill-color);\n",
              "      border-right-color: var(--fill-color);\n",
              "    }\n",
              "    40% {\n",
              "      border-color: transparent;\n",
              "      border-right-color: var(--fill-color);\n",
              "      border-top-color: var(--fill-color);\n",
              "    }\n",
              "    60% {\n",
              "      border-color: transparent;\n",
              "      border-right-color: var(--fill-color);\n",
              "    }\n",
              "    80% {\n",
              "      border-color: transparent;\n",
              "      border-right-color: var(--fill-color);\n",
              "      border-bottom-color: var(--fill-color);\n",
              "    }\n",
              "    90% {\n",
              "      border-color: transparent;\n",
              "      border-bottom-color: var(--fill-color);\n",
              "    }\n",
              "  }\n",
              "</style>\n",
              "\n",
              "  <script>\n",
              "    async function quickchart(key) {\n",
              "      const quickchartButtonEl =\n",
              "        document.querySelector('#' + key + ' button');\n",
              "      quickchartButtonEl.disabled = true;  // To prevent multiple clicks.\n",
              "      quickchartButtonEl.classList.add('colab-df-spinner');\n",
              "      try {\n",
              "        const charts = await google.colab.kernel.invokeFunction(\n",
              "            'suggestCharts', [key], {});\n",
              "      } catch (error) {\n",
              "        console.error('Error during call to suggestCharts:', error);\n",
              "      }\n",
              "      quickchartButtonEl.classList.remove('colab-df-spinner');\n",
              "      quickchartButtonEl.classList.add('colab-df-quickchart-complete');\n",
              "    }\n",
              "    (() => {\n",
              "      let quickchartButtonEl =\n",
              "        document.querySelector('#df-adaeb398-47bc-4033-ae77-2721b3552b09 button');\n",
              "      quickchartButtonEl.style.display =\n",
              "        google.colab.kernel.accessAllowed ? 'block' : 'none';\n",
              "    })();\n",
              "  </script>\n",
              "</div>\n",
              "\n",
              "    </div>\n",
              "  </div>\n"
            ],
            "application/vnd.google.colaboratory.intrinsic+json": {
              "type": "dataframe",
              "variable_name": "combined_df_1"
            }
          },
          "metadata": {},
          "execution_count": 9
        }
      ],
      "source": [
        "combined_df_1 = combined_df.drop(['DrugBank_ID','UniProt_ID'], axis=1)\n",
        "combined_df_1.head()"
      ]
    },
    {
      "cell_type": "code",
      "execution_count": null,
      "metadata": {
        "colab": {
          "base_uri": "https://localhost:8080/",
          "height": 256
        },
        "id": "KZqmxW3sEZ70",
        "outputId": "4d6ee20d-9636-425f-bc37-4566602b91ce"
      },
      "outputs": [
        {
          "output_type": "execute_result",
          "data": {
            "text/plain": [
              "   nA  nR  nN  nD  nC  nF  nQ  nE  nG  nH  ...  prop4.Tr2332  prop5.Tr1221  \\\n",
              "0  15   1   1   1   0   0   0   4  20   0  ...             0             0   \n",
              "1   0   0   0   0   0   0   0   0   0   0  ...             0             0   \n",
              "2   2   1   0   0   0   0   0   0   2   0  ...             0             0   \n",
              "3   0   0   0   0   0   0   0   0   0   0  ...             0             0   \n",
              "4   0   0   0   0   0   0   0   0   0   0  ...             0             0   \n",
              "\n",
              "   prop5.Tr1331  prop5.Tr2332  prop6.Tr1221  prop6.Tr1331  prop6.Tr2332  \\\n",
              "0             0             0      0.198562      0.165376      0.265487   \n",
              "1             0             0      0.198562      0.165376      0.265487   \n",
              "2             0             0      0.198562      0.165376      0.265487   \n",
              "3             0             0      0.198562      0.165376      0.265487   \n",
              "4             0             0      0.198562      0.165376      0.265487   \n",
              "\n",
              "   prop7.Tr1221  prop7.Tr1331  prop7.Tr2332  \n",
              "0           0.0      0.317478           0.0  \n",
              "1           0.0      0.317478           0.0  \n",
              "2           0.0      0.317478           0.0  \n",
              "3           0.0      0.317478           0.0  \n",
              "4           0.0      0.317478           0.0  \n",
              "\n",
              "[5 rows x 681 columns]"
            ],
            "text/html": [
              "\n",
              "  <div id=\"df-018497f9-1c4b-44a1-b849-ac7c9162cb51\" class=\"colab-df-container\">\n",
              "    <div>\n",
              "<style scoped>\n",
              "    .dataframe tbody tr th:only-of-type {\n",
              "        vertical-align: middle;\n",
              "    }\n",
              "\n",
              "    .dataframe tbody tr th {\n",
              "        vertical-align: top;\n",
              "    }\n",
              "\n",
              "    .dataframe thead th {\n",
              "        text-align: right;\n",
              "    }\n",
              "</style>\n",
              "<table border=\"1\" class=\"dataframe\">\n",
              "  <thead>\n",
              "    <tr style=\"text-align: right;\">\n",
              "      <th></th>\n",
              "      <th>nA</th>\n",
              "      <th>nR</th>\n",
              "      <th>nN</th>\n",
              "      <th>nD</th>\n",
              "      <th>nC</th>\n",
              "      <th>nF</th>\n",
              "      <th>nQ</th>\n",
              "      <th>nE</th>\n",
              "      <th>nG</th>\n",
              "      <th>nH</th>\n",
              "      <th>...</th>\n",
              "      <th>prop4.Tr2332</th>\n",
              "      <th>prop5.Tr1221</th>\n",
              "      <th>prop5.Tr1331</th>\n",
              "      <th>prop5.Tr2332</th>\n",
              "      <th>prop6.Tr1221</th>\n",
              "      <th>prop6.Tr1331</th>\n",
              "      <th>prop6.Tr2332</th>\n",
              "      <th>prop7.Tr1221</th>\n",
              "      <th>prop7.Tr1331</th>\n",
              "      <th>prop7.Tr2332</th>\n",
              "    </tr>\n",
              "  </thead>\n",
              "  <tbody>\n",
              "    <tr>\n",
              "      <th>0</th>\n",
              "      <td>15</td>\n",
              "      <td>1</td>\n",
              "      <td>1</td>\n",
              "      <td>1</td>\n",
              "      <td>0</td>\n",
              "      <td>0</td>\n",
              "      <td>0</td>\n",
              "      <td>4</td>\n",
              "      <td>20</td>\n",
              "      <td>0</td>\n",
              "      <td>...</td>\n",
              "      <td>0</td>\n",
              "      <td>0</td>\n",
              "      <td>0</td>\n",
              "      <td>0</td>\n",
              "      <td>0.198562</td>\n",
              "      <td>0.165376</td>\n",
              "      <td>0.265487</td>\n",
              "      <td>0.0</td>\n",
              "      <td>0.317478</td>\n",
              "      <td>0.0</td>\n",
              "    </tr>\n",
              "    <tr>\n",
              "      <th>1</th>\n",
              "      <td>0</td>\n",
              "      <td>0</td>\n",
              "      <td>0</td>\n",
              "      <td>0</td>\n",
              "      <td>0</td>\n",
              "      <td>0</td>\n",
              "      <td>0</td>\n",
              "      <td>0</td>\n",
              "      <td>0</td>\n",
              "      <td>0</td>\n",
              "      <td>...</td>\n",
              "      <td>0</td>\n",
              "      <td>0</td>\n",
              "      <td>0</td>\n",
              "      <td>0</td>\n",
              "      <td>0.198562</td>\n",
              "      <td>0.165376</td>\n",
              "      <td>0.265487</td>\n",
              "      <td>0.0</td>\n",
              "      <td>0.317478</td>\n",
              "      <td>0.0</td>\n",
              "    </tr>\n",
              "    <tr>\n",
              "      <th>2</th>\n",
              "      <td>2</td>\n",
              "      <td>1</td>\n",
              "      <td>0</td>\n",
              "      <td>0</td>\n",
              "      <td>0</td>\n",
              "      <td>0</td>\n",
              "      <td>0</td>\n",
              "      <td>0</td>\n",
              "      <td>2</td>\n",
              "      <td>0</td>\n",
              "      <td>...</td>\n",
              "      <td>0</td>\n",
              "      <td>0</td>\n",
              "      <td>0</td>\n",
              "      <td>0</td>\n",
              "      <td>0.198562</td>\n",
              "      <td>0.165376</td>\n",
              "      <td>0.265487</td>\n",
              "      <td>0.0</td>\n",
              "      <td>0.317478</td>\n",
              "      <td>0.0</td>\n",
              "    </tr>\n",
              "    <tr>\n",
              "      <th>3</th>\n",
              "      <td>0</td>\n",
              "      <td>0</td>\n",
              "      <td>0</td>\n",
              "      <td>0</td>\n",
              "      <td>0</td>\n",
              "      <td>0</td>\n",
              "      <td>0</td>\n",
              "      <td>0</td>\n",
              "      <td>0</td>\n",
              "      <td>0</td>\n",
              "      <td>...</td>\n",
              "      <td>0</td>\n",
              "      <td>0</td>\n",
              "      <td>0</td>\n",
              "      <td>0</td>\n",
              "      <td>0.198562</td>\n",
              "      <td>0.165376</td>\n",
              "      <td>0.265487</td>\n",
              "      <td>0.0</td>\n",
              "      <td>0.317478</td>\n",
              "      <td>0.0</td>\n",
              "    </tr>\n",
              "    <tr>\n",
              "      <th>4</th>\n",
              "      <td>0</td>\n",
              "      <td>0</td>\n",
              "      <td>0</td>\n",
              "      <td>0</td>\n",
              "      <td>0</td>\n",
              "      <td>0</td>\n",
              "      <td>0</td>\n",
              "      <td>0</td>\n",
              "      <td>0</td>\n",
              "      <td>0</td>\n",
              "      <td>...</td>\n",
              "      <td>0</td>\n",
              "      <td>0</td>\n",
              "      <td>0</td>\n",
              "      <td>0</td>\n",
              "      <td>0.198562</td>\n",
              "      <td>0.165376</td>\n",
              "      <td>0.265487</td>\n",
              "      <td>0.0</td>\n",
              "      <td>0.317478</td>\n",
              "      <td>0.0</td>\n",
              "    </tr>\n",
              "  </tbody>\n",
              "</table>\n",
              "<p>5 rows × 681 columns</p>\n",
              "</div>\n",
              "    <div class=\"colab-df-buttons\">\n",
              "\n",
              "  <div class=\"colab-df-container\">\n",
              "    <button class=\"colab-df-convert\" onclick=\"convertToInteractive('df-018497f9-1c4b-44a1-b849-ac7c9162cb51')\"\n",
              "            title=\"Convert this dataframe to an interactive table.\"\n",
              "            style=\"display:none;\">\n",
              "\n",
              "  <svg xmlns=\"http://www.w3.org/2000/svg\" height=\"24px\" viewBox=\"0 -960 960 960\">\n",
              "    <path d=\"M120-120v-720h720v720H120Zm60-500h600v-160H180v160Zm220 220h160v-160H400v160Zm0 220h160v-160H400v160ZM180-400h160v-160H180v160Zm440 0h160v-160H620v160ZM180-180h160v-160H180v160Zm440 0h160v-160H620v160Z\"/>\n",
              "  </svg>\n",
              "    </button>\n",
              "\n",
              "  <style>\n",
              "    .colab-df-container {\n",
              "      display:flex;\n",
              "      gap: 12px;\n",
              "    }\n",
              "\n",
              "    .colab-df-convert {\n",
              "      background-color: #E8F0FE;\n",
              "      border: none;\n",
              "      border-radius: 50%;\n",
              "      cursor: pointer;\n",
              "      display: none;\n",
              "      fill: #1967D2;\n",
              "      height: 32px;\n",
              "      padding: 0 0 0 0;\n",
              "      width: 32px;\n",
              "    }\n",
              "\n",
              "    .colab-df-convert:hover {\n",
              "      background-color: #E2EBFA;\n",
              "      box-shadow: 0px 1px 2px rgba(60, 64, 67, 0.3), 0px 1px 3px 1px rgba(60, 64, 67, 0.15);\n",
              "      fill: #174EA6;\n",
              "    }\n",
              "\n",
              "    .colab-df-buttons div {\n",
              "      margin-bottom: 4px;\n",
              "    }\n",
              "\n",
              "    [theme=dark] .colab-df-convert {\n",
              "      background-color: #3B4455;\n",
              "      fill: #D2E3FC;\n",
              "    }\n",
              "\n",
              "    [theme=dark] .colab-df-convert:hover {\n",
              "      background-color: #434B5C;\n",
              "      box-shadow: 0px 1px 3px 1px rgba(0, 0, 0, 0.15);\n",
              "      filter: drop-shadow(0px 1px 2px rgba(0, 0, 0, 0.3));\n",
              "      fill: #FFFFFF;\n",
              "    }\n",
              "  </style>\n",
              "\n",
              "    <script>\n",
              "      const buttonEl =\n",
              "        document.querySelector('#df-018497f9-1c4b-44a1-b849-ac7c9162cb51 button.colab-df-convert');\n",
              "      buttonEl.style.display =\n",
              "        google.colab.kernel.accessAllowed ? 'block' : 'none';\n",
              "\n",
              "      async function convertToInteractive(key) {\n",
              "        const element = document.querySelector('#df-018497f9-1c4b-44a1-b849-ac7c9162cb51');\n",
              "        const dataTable =\n",
              "          await google.colab.kernel.invokeFunction('convertToInteractive',\n",
              "                                                    [key], {});\n",
              "        if (!dataTable) return;\n",
              "\n",
              "        const docLinkHtml = 'Like what you see? Visit the ' +\n",
              "          '<a target=\"_blank\" href=https://colab.research.google.com/notebooks/data_table.ipynb>data table notebook</a>'\n",
              "          + ' to learn more about interactive tables.';\n",
              "        element.innerHTML = '';\n",
              "        dataTable['output_type'] = 'display_data';\n",
              "        await google.colab.output.renderOutput(dataTable, element);\n",
              "        const docLink = document.createElement('div');\n",
              "        docLink.innerHTML = docLinkHtml;\n",
              "        element.appendChild(docLink);\n",
              "      }\n",
              "    </script>\n",
              "  </div>\n",
              "\n",
              "\n",
              "<div id=\"df-2f328f29-3e89-4b9f-ba9d-d3dc8353be0d\">\n",
              "  <button class=\"colab-df-quickchart\" onclick=\"quickchart('df-2f328f29-3e89-4b9f-ba9d-d3dc8353be0d')\"\n",
              "            title=\"Suggest charts\"\n",
              "            style=\"display:none;\">\n",
              "\n",
              "<svg xmlns=\"http://www.w3.org/2000/svg\" height=\"24px\"viewBox=\"0 0 24 24\"\n",
              "     width=\"24px\">\n",
              "    <g>\n",
              "        <path d=\"M19 3H5c-1.1 0-2 .9-2 2v14c0 1.1.9 2 2 2h14c1.1 0 2-.9 2-2V5c0-1.1-.9-2-2-2zM9 17H7v-7h2v7zm4 0h-2V7h2v10zm4 0h-2v-4h2v4z\"/>\n",
              "    </g>\n",
              "</svg>\n",
              "  </button>\n",
              "\n",
              "<style>\n",
              "  .colab-df-quickchart {\n",
              "      --bg-color: #E8F0FE;\n",
              "      --fill-color: #1967D2;\n",
              "      --hover-bg-color: #E2EBFA;\n",
              "      --hover-fill-color: #174EA6;\n",
              "      --disabled-fill-color: #AAA;\n",
              "      --disabled-bg-color: #DDD;\n",
              "  }\n",
              "\n",
              "  [theme=dark] .colab-df-quickchart {\n",
              "      --bg-color: #3B4455;\n",
              "      --fill-color: #D2E3FC;\n",
              "      --hover-bg-color: #434B5C;\n",
              "      --hover-fill-color: #FFFFFF;\n",
              "      --disabled-bg-color: #3B4455;\n",
              "      --disabled-fill-color: #666;\n",
              "  }\n",
              "\n",
              "  .colab-df-quickchart {\n",
              "    background-color: var(--bg-color);\n",
              "    border: none;\n",
              "    border-radius: 50%;\n",
              "    cursor: pointer;\n",
              "    display: none;\n",
              "    fill: var(--fill-color);\n",
              "    height: 32px;\n",
              "    padding: 0;\n",
              "    width: 32px;\n",
              "  }\n",
              "\n",
              "  .colab-df-quickchart:hover {\n",
              "    background-color: var(--hover-bg-color);\n",
              "    box-shadow: 0 1px 2px rgba(60, 64, 67, 0.3), 0 1px 3px 1px rgba(60, 64, 67, 0.15);\n",
              "    fill: var(--button-hover-fill-color);\n",
              "  }\n",
              "\n",
              "  .colab-df-quickchart-complete:disabled,\n",
              "  .colab-df-quickchart-complete:disabled:hover {\n",
              "    background-color: var(--disabled-bg-color);\n",
              "    fill: var(--disabled-fill-color);\n",
              "    box-shadow: none;\n",
              "  }\n",
              "\n",
              "  .colab-df-spinner {\n",
              "    border: 2px solid var(--fill-color);\n",
              "    border-color: transparent;\n",
              "    border-bottom-color: var(--fill-color);\n",
              "    animation:\n",
              "      spin 1s steps(1) infinite;\n",
              "  }\n",
              "\n",
              "  @keyframes spin {\n",
              "    0% {\n",
              "      border-color: transparent;\n",
              "      border-bottom-color: var(--fill-color);\n",
              "      border-left-color: var(--fill-color);\n",
              "    }\n",
              "    20% {\n",
              "      border-color: transparent;\n",
              "      border-left-color: var(--fill-color);\n",
              "      border-top-color: var(--fill-color);\n",
              "    }\n",
              "    30% {\n",
              "      border-color: transparent;\n",
              "      border-left-color: var(--fill-color);\n",
              "      border-top-color: var(--fill-color);\n",
              "      border-right-color: var(--fill-color);\n",
              "    }\n",
              "    40% {\n",
              "      border-color: transparent;\n",
              "      border-right-color: var(--fill-color);\n",
              "      border-top-color: var(--fill-color);\n",
              "    }\n",
              "    60% {\n",
              "      border-color: transparent;\n",
              "      border-right-color: var(--fill-color);\n",
              "    }\n",
              "    80% {\n",
              "      border-color: transparent;\n",
              "      border-right-color: var(--fill-color);\n",
              "      border-bottom-color: var(--fill-color);\n",
              "    }\n",
              "    90% {\n",
              "      border-color: transparent;\n",
              "      border-bottom-color: var(--fill-color);\n",
              "    }\n",
              "  }\n",
              "</style>\n",
              "\n",
              "  <script>\n",
              "    async function quickchart(key) {\n",
              "      const quickchartButtonEl =\n",
              "        document.querySelector('#' + key + ' button');\n",
              "      quickchartButtonEl.disabled = true;  // To prevent multiple clicks.\n",
              "      quickchartButtonEl.classList.add('colab-df-spinner');\n",
              "      try {\n",
              "        const charts = await google.colab.kernel.invokeFunction(\n",
              "            'suggestCharts', [key], {});\n",
              "      } catch (error) {\n",
              "        console.error('Error during call to suggestCharts:', error);\n",
              "      }\n",
              "      quickchartButtonEl.classList.remove('colab-df-spinner');\n",
              "      quickchartButtonEl.classList.add('colab-df-quickchart-complete');\n",
              "    }\n",
              "    (() => {\n",
              "      let quickchartButtonEl =\n",
              "        document.querySelector('#df-2f328f29-3e89-4b9f-ba9d-d3dc8353be0d button');\n",
              "      quickchartButtonEl.style.display =\n",
              "        google.colab.kernel.accessAllowed ? 'block' : 'none';\n",
              "    })();\n",
              "  </script>\n",
              "</div>\n",
              "\n",
              "    </div>\n",
              "  </div>\n"
            ],
            "application/vnd.google.colaboratory.intrinsic+json": {
              "type": "dataframe",
              "variable_name": "data"
            }
          },
          "metadata": {},
          "execution_count": 10
        }
      ],
      "source": [
        "label = combined_df_1['labels']\n",
        "data = combined_df_1.drop(['labels'], axis=1)\n",
        "\n",
        "data.head()"
      ]
    },
    {
      "cell_type": "markdown",
      "metadata": {
        "id": "_glPhztvs6F5"
      },
      "source": [
        "**Normalizing the data**"
      ]
    },
    {
      "cell_type": "code",
      "execution_count": null,
      "metadata": {
        "id": "Q658xMeSExkF"
      },
      "outputs": [],
      "source": [
        "import sklearn.preprocessing\n",
        "scaler = sklearn.preprocessing.StandardScaler()\n",
        "data1 = pd.DataFrame(scaler.fit_transform(data))"
      ]
    },
    {
      "cell_type": "code",
      "execution_count": null,
      "metadata": {
        "colab": {
          "base_uri": "https://localhost:8080/"
        },
        "id": "xKE07GeMFCEc",
        "outputId": "f3139626-0546-4227-a7e3-427837bb636b"
      },
      "outputs": [
        {
          "output_type": "execute_result",
          "data": {
            "text/plain": [
              "(37335, 681)"
            ]
          },
          "metadata": {},
          "execution_count": 12
        }
      ],
      "source": [
        "data1.shape"
      ]
    },
    {
      "cell_type": "code",
      "execution_count": null,
      "metadata": {
        "id": "0-A8YQZqFTla"
      },
      "outputs": [],
      "source": [
        "from sklearn.preprocessing import LabelEncoder\n",
        "enc = LabelEncoder()\n",
        "label1 = pd.DataFrame(enc.fit_transform(label))"
      ]
    },
    {
      "cell_type": "markdown",
      "metadata": {
        "id": "Y-YCFuLnV6ky"
      },
      "source": [
        "**Data Splitting**"
      ]
    },
    {
      "cell_type": "code",
      "execution_count": null,
      "metadata": {
        "id": "idY3Ymu9FfgS"
      },
      "outputs": [],
      "source": [
        "X_train,X_test, Y_train, Y_test = train_test_split(data1, label1, train_size = 0.8)\n",
        "\n",
        "#x_train1,X_test, y_train1, y_test1 = train_test_split(data1, label1, train_size = 0.8)\n",
        "\n",
        "X_train,X_valid,Y_train,Y_valid = train_test_split(X_train, Y_train, train_size = 0.9)"
      ]
    },
    {
      "cell_type": "code",
      "execution_count": null,
      "metadata": {
        "id": "6tcIioADFs7M"
      },
      "outputs": [],
      "source": [
        "X_train = X_train.values.reshape((X_train.shape[0], 1, X_train.shape[1]))\n",
        "X_test = X_test.values.reshape((X_test.shape[0], 1, X_test.shape[1]))\n",
        "X_valid = X_valid.values.reshape((X_valid.shape[0], 1, X_valid.shape[1]))"
      ]
    },
    {
      "cell_type": "code",
      "execution_count": null,
      "metadata": {
        "id": "PcGLsUJEFyLx"
      },
      "outputs": [],
      "source": [
        "import keras.utils\n",
        "Y_train = keras.utils.to_categorical(Y_train)\n",
        "Y_test= keras.utils.to_categorical(Y_test)\n",
        "Y_valid = keras.utils.to_categorical(Y_valid)"
      ]
    },
    {
      "cell_type": "code",
      "execution_count": null,
      "metadata": {
        "id": "ljh5VkN4Nczc"
      },
      "outputs": [],
      "source": [
        "X_train = X_train.reshape((X_train.shape[0], X_train.shape[2], 1))\n",
        "X_test = X_test.reshape((X_test.shape[0], X_test.shape[2], 1))\n",
        "X_valid = X_valid.reshape((X_valid.shape[0], X_valid.shape[2], 1))"
      ]
    },
    {
      "cell_type": "code",
      "source": [
        "print(X_train.shape)\n",
        "print(X_test.shape)\n",
        "print(X_valid.shape)"
      ],
      "metadata": {
        "colab": {
          "base_uri": "https://localhost:8080/"
        },
        "id": "7KUxWlBP56VU",
        "outputId": "5b458546-fd4a-456c-c678-2a31d486d39d"
      },
      "execution_count": null,
      "outputs": [
        {
          "output_type": "stream",
          "name": "stdout",
          "text": [
            "(26881, 681, 1)\n",
            "(7467, 681, 1)\n",
            "(2987, 681, 1)\n"
          ]
        }
      ]
    },
    {
      "cell_type": "code",
      "source": [
        "print(Y_train.shape)\n",
        "print(Y_test.shape)\n",
        "print(Y_valid.shape)"
      ],
      "metadata": {
        "colab": {
          "base_uri": "https://localhost:8080/"
        },
        "id": "K_N8W2ik56lL",
        "outputId": "98631110-a740-4445-cbf5-96d157848930"
      },
      "execution_count": null,
      "outputs": [
        {
          "output_type": "stream",
          "name": "stdout",
          "text": [
            "(26881, 2)\n",
            "(7467, 2)\n",
            "(2987, 2)\n"
          ]
        }
      ]
    },
    {
      "cell_type": "markdown",
      "metadata": {
        "id": "sOGQk0Jz4iMa"
      },
      "source": [
        "**Model building**"
      ]
    },
    {
      "cell_type": "markdown",
      "metadata": {
        "id": "NkwpalelFp1d"
      },
      "source": [
        "## 1st Model Test"
      ]
    },
    {
      "cell_type": "code",
      "execution_count": null,
      "metadata": {
        "id": "0X3jYpfD9RDy"
      },
      "outputs": [],
      "source": [
        "from tensorflow.keras.models import Sequential\n",
        "from tensorflow.keras.layers import LSTM, Dense, Dropout, Conv1D, MaxPooling1D, Flatten\n",
        "from tensorflow.keras.optimizers import Adam\n",
        "from sklearn.model_selection import train_test_split\n",
        "\n",
        "# # Assuming X_train and y_train are already defined\n",
        "# X_train, X_val, y_train, y_val = train_test_split(X, y, test_size=0.2, random_state=42)\n",
        "\n",
        "model = Sequential()\n",
        "\n",
        "# First 1D convolutional layer\n",
        "model.add(Conv1D(filters=64, kernel_size=2, activation='relu', input_shape=(X_train.shape[1], X_train.shape[2])))\n",
        "model.add(MaxPooling1D(pool_size=2))\n",
        "\n",
        "# Second 1D convolutional layer\n",
        "model.add(Conv1D(filters=128, kernel_size=2, activation='relu'))\n",
        "model.add(MaxPooling1D(pool_size=2))\n",
        "\n",
        "# LSTM layer\n",
        "model.add(LSTM(128, return_sequences=True))\n",
        "model.add(Dropout(0.5))  # Dropout for regularization\n",
        "\n",
        "# Flatten the output\n",
        "model.add(Flatten())\n",
        "\n",
        "# Fully connected layer\n",
        "model.add(Dense(128, activation='relu'))\n",
        "model.add(Dropout(0.5))  # Dropout for regularization\n",
        "\n",
        "# Output layer (assuming a binary classification task)\n",
        "model.add(Dense(2, activation='sigmoid'))\n",
        "\n"
      ]
    },
    {
      "cell_type": "code",
      "execution_count": null,
      "metadata": {
        "id": "HnTPpxoWTSJ4"
      },
      "outputs": [],
      "source": [
        "import tensorflow as tf\n",
        "# Compile the model\n",
        "optimizer = Adam(learning_rate=0.0001)\n",
        "model.compile(loss=tf.keras.losses.MeanSquaredError(),\n",
        "                  optimizer=tf.keras.optimizers.Adam(learning_rate=0.001),\n",
        "                  metrics=[tf.keras.metrics.BinaryAccuracy(name='accuracy', dtype=None, threshold=0.5),\n",
        "                  tf.keras.metrics.Recall(name='Recall'),\n",
        "                  tf.keras.metrics.Precision(name='Precision'),\n",
        "                  tf.keras.metrics.AUC( num_thresholds=200,\n",
        "                                        curve=\"ROC\",\n",
        "                                        summation_method=\"interpolation\",\n",
        "                                        name=\"AUC\",\n",
        "                                        dtype=None,\n",
        "                                        thresholds=None,\n",
        "                                        multi_label=True,\n",
        "                                       label_weights=None,)])\n",
        "\n",
        "# Define callbacks\n",
        "checkpoint_path = 'best_model.h5'\n",
        "checkpoint = ModelCheckpoint(checkpoint_path, monitor='val_accuracy', save_best_only=True, mode='max', verbose=1)\n",
        "early_stopping = EarlyStopping(monitor='val_loss', patience=10, restore_best_weights=True, verbose=1)\n"
      ]
    },
    {
      "cell_type": "code",
      "execution_count": null,
      "metadata": {
        "colab": {
          "base_uri": "https://localhost:8080/"
        },
        "id": "Pt8syIiV9_CC",
        "outputId": "a2beb6ee-2a76-48e2-ca58-650a366f6ccf"
      },
      "outputs": [
        {
          "name": "stdout",
          "output_type": "stream",
          "text": [
            "Model: \"sequential\"\n",
            "_________________________________________________________________\n",
            " Layer (type)                Output Shape              Param #   \n",
            "=================================================================\n",
            " conv1d (Conv1D)             (None, 680, 64)           192       \n",
            "                                                                 \n",
            " max_pooling1d (MaxPooling1  (None, 340, 64)           0         \n",
            " D)                                                              \n",
            "                                                                 \n",
            " conv1d_1 (Conv1D)           (None, 339, 128)          16512     \n",
            "                                                                 \n",
            " max_pooling1d_1 (MaxPoolin  (None, 169, 128)          0         \n",
            " g1D)                                                            \n",
            "                                                                 \n",
            " lstm (LSTM)                 (None, 169, 128)          131584    \n",
            "                                                                 \n",
            " dropout (Dropout)           (None, 169, 128)          0         \n",
            "                                                                 \n",
            " flatten (Flatten)           (None, 21632)             0         \n",
            "                                                                 \n",
            " dense (Dense)               (None, 128)               2769024   \n",
            "                                                                 \n",
            " dropout_1 (Dropout)         (None, 128)               0         \n",
            "                                                                 \n",
            " dense_1 (Dense)             (None, 2)                 258       \n",
            "                                                                 \n",
            "=================================================================\n",
            "Total params: 2917570 (11.13 MB)\n",
            "Trainable params: 2917570 (11.13 MB)\n",
            "Non-trainable params: 0 (0.00 Byte)\n",
            "_________________________________________________________________\n"
          ]
        }
      ],
      "source": [
        "model.summary()"
      ]
    },
    {
      "cell_type": "code",
      "execution_count": null,
      "metadata": {
        "colab": {
          "base_uri": "https://localhost:8080/",
          "height": 1000
        },
        "id": "CY3FCOODTa7B",
        "outputId": "8f9353a6-d352-455f-dcfb-31602ac4f46c"
      },
      "outputs": [
        {
          "data": {
            "image/png": "[encoded data removed]",
            "text/plain": [
              "<IPython.core.display.Image object>"
            ]
          },
          "execution_count": 22,
          "metadata": {},
          "output_type": "execute_result"
        }
      ],
      "source": [
        "import keras\n",
        "from keras.utils import plot_model\n",
        "plot_model(model)"
      ]
    },
    {
      "cell_type": "code",
      "execution_count": null,
      "metadata": {
        "colab": {
          "base_uri": "https://localhost:8080/"
        },
        "id": "mAtjymEr-DaD",
        "outputId": "595dc8df-ca46-4a2b-aff3-c773d3ef551a"
      },
      "outputs": [
        {
          "name": "stdout",
          "output_type": "stream",
          "text": [
            "Epoch 1/100\n",
            "1681/1681 [==============================] - 34s 15ms/step - loss: 0.2290 - accuracy: 0.6192 - Recall: 0.6198 - Precision: 0.6191 - AUC: 0.6594 - val_loss: 0.2097 - val_accuracy: 0.6681 - val_Recall: 0.6649 - val_Precision: 0.6691 - val_AUC: 0.7340\n",
            "Epoch 2/100\n",
            "1681/1681 [==============================] - 24s 14ms/step - loss: 0.2062 - accuracy: 0.6669 - Recall: 0.6665 - Precision: 0.6671 - AUC: 0.7352 - val_loss: 0.1978 - val_accuracy: 0.6799 - val_Recall: 0.6793 - val_Precision: 0.6802 - val_AUC: 0.7794\n",
            "Epoch 3/100\n",
            "1681/1681 [==============================] - 23s 14ms/step - loss: 0.1934 - accuracy: 0.6930 - Recall: 0.6909 - Precision: 0.6938 - AUC: 0.7700 - val_loss: 0.1858 - val_accuracy: 0.7118 - val_Recall: 0.7091 - val_Precision: 0.7129 - val_AUC: 0.7979\n",
            "Epoch 4/100\n",
            "1681/1681 [==============================] - 24s 14ms/step - loss: 0.1836 - accuracy: 0.7157 - Recall: 0.7153 - Precision: 0.7158 - AUC: 0.7955 - val_loss: 0.1708 - val_accuracy: 0.7354 - val_Recall: 0.7355 - val_Precision: 0.7353 - val_AUC: 0.8254\n",
            "Epoch 5/100\n",
            "1681/1681 [==============================] - 22s 13ms/step - loss: 0.1745 - accuracy: 0.7317 - Recall: 0.7312 - Precision: 0.7319 - AUC: 0.8155 - val_loss: 0.1644 - val_accuracy: 0.7508 - val_Recall: 0.7506 - val_Precision: 0.7508 - val_AUC: 0.8381\n",
            "Epoch 6/100\n",
            "1681/1681 [==============================] - 23s 14ms/step - loss: 0.1666 - accuracy: 0.7466 - Recall: 0.7463 - Precision: 0.7468 - AUC: 0.8325 - val_loss: 0.1625 - val_accuracy: 0.7466 - val_Recall: 0.7459 - val_Precision: 0.7469 - val_AUC: 0.8412\n",
            "Epoch 7/100\n",
            "1681/1681 [==============================] - 23s 13ms/step - loss: 0.1596 - accuracy: 0.7618 - Recall: 0.7618 - Precision: 0.7618 - AUC: 0.8465 - val_loss: 0.1570 - val_accuracy: 0.7713 - val_Recall: 0.7710 - val_Precision: 0.7715 - val_AUC: 0.8570\n",
            "Epoch 8/100\n",
            "1681/1681 [==============================] - 25s 15ms/step - loss: 0.1532 - accuracy: 0.7734 - Recall: 0.7733 - Precision: 0.7735 - AUC: 0.8579 - val_loss: 0.1537 - val_accuracy: 0.7740 - val_Recall: 0.7737 - val_Precision: 0.7742 - val_AUC: 0.8596\n",
            "Epoch 9/100\n",
            "1681/1681 [==============================] - 23s 14ms/step - loss: 0.1478 - accuracy: 0.7829 - Recall: 0.7829 - Precision: 0.7829 - AUC: 0.8676 - val_loss: 0.1504 - val_accuracy: 0.7727 - val_Recall: 0.7727 - val_Precision: 0.7727 - val_AUC: 0.8665\n",
            "Epoch 10/100\n",
            "1681/1681 [==============================] - 23s 13ms/step - loss: 0.1436 - accuracy: 0.7919 - Recall: 0.7920 - Precision: 0.7918 - AUC: 0.8748 - val_loss: 0.1513 - val_accuracy: 0.7826 - val_Recall: 0.7824 - val_Precision: 0.7827 - val_AUC: 0.8643\n",
            "Epoch 11/100\n",
            "1681/1681 [==============================] - 24s 14ms/step - loss: 0.1393 - accuracy: 0.7978 - Recall: 0.7978 - Precision: 0.7978 - AUC: 0.8816 - val_loss: 0.1468 - val_accuracy: 0.7864 - val_Recall: 0.7864 - val_Precision: 0.7864 - val_AUC: 0.8709\n",
            "Epoch 12/100\n",
            "1681/1681 [==============================] - 22s 13ms/step - loss: 0.1322 - accuracy: 0.8108 - Recall: 0.8108 - Precision: 0.8109 - AUC: 0.8927 - val_loss: 0.1476 - val_accuracy: 0.7916 - val_Recall: 0.7914 - val_Precision: 0.7917 - val_AUC: 0.8741\n",
            "Epoch 13/100\n",
            "1681/1681 [==============================] - 24s 14ms/step - loss: 0.1295 - accuracy: 0.8146 - Recall: 0.8146 - Precision: 0.8146 - AUC: 0.8969 - val_loss: 0.1474 - val_accuracy: 0.7911 - val_Recall: 0.7911 - val_Precision: 0.7911 - val_AUC: 0.8738\n",
            "Epoch 14/100\n",
            "1681/1681 [==============================] - 23s 14ms/step - loss: 0.1253 - accuracy: 0.8214 - Recall: 0.8214 - Precision: 0.8215 - AUC: 0.9026 - val_loss: 0.1450 - val_accuracy: 0.7944 - val_Recall: 0.7944 - val_Precision: 0.7944 - val_AUC: 0.8753\n",
            "Epoch 15/100\n",
            "1681/1681 [==============================] - 23s 14ms/step - loss: 0.1208 - accuracy: 0.8262 - Recall: 0.8262 - Precision: 0.8262 - AUC: 0.9087 - val_loss: 0.1453 - val_accuracy: 0.7958 - val_Recall: 0.7958 - val_Precision: 0.7958 - val_AUC: 0.8793\n",
            "Epoch 16/100\n",
            "1681/1681 [==============================] - 23s 14ms/step - loss: 0.1194 - accuracy: 0.8313 - Recall: 0.8313 - Precision: 0.8312 - AUC: 0.9109 - val_loss: 0.1442 - val_accuracy: 0.7934 - val_Recall: 0.7934 - val_Precision: 0.7934 - val_AUC: 0.8770\n",
            "Epoch 17/100\n",
            "1681/1681 [==============================] - 22s 13ms/step - loss: 0.1179 - accuracy: 0.8343 - Recall: 0.8342 - Precision: 0.8343 - AUC: 0.9132 - val_loss: 0.1423 - val_accuracy: 0.8003 - val_Recall: 0.8005 - val_Precision: 0.8002 - val_AUC: 0.8807\n",
            "Epoch 18/100\n",
            "1681/1681 [==============================] - 24s 14ms/step - loss: 0.1130 - accuracy: 0.8398 - Recall: 0.8398 - Precision: 0.8398 - AUC: 0.9193 - val_loss: 0.1420 - val_accuracy: 0.7986 - val_Recall: 0.7988 - val_Precision: 0.7985 - val_AUC: 0.8813\n",
            "Epoch 19/100\n",
            "1681/1681 [==============================] - 24s 14ms/step - loss: 0.1100 - accuracy: 0.8453 - Recall: 0.8454 - Precision: 0.8453 - AUC: 0.9230 - val_loss: 0.1397 - val_accuracy: 0.8067 - val_Recall: 0.8065 - val_Precision: 0.8068 - val_AUC: 0.8860\n",
            "Epoch 20/100\n",
            "1681/1681 [==============================] - 23s 14ms/step - loss: 0.1077 - accuracy: 0.8491 - Recall: 0.8491 - Precision: 0.8492 - AUC: 0.9257 - val_loss: 0.1406 - val_accuracy: 0.8023 - val_Recall: 0.8025 - val_Precision: 0.8022 - val_AUC: 0.8867\n",
            "Epoch 21/100\n",
            "1681/1681 [==============================] - 24s 14ms/step - loss: 0.1049 - accuracy: 0.8535 - Recall: 0.8535 - Precision: 0.8535 - AUC: 0.9290 - val_loss: 0.1393 - val_accuracy: 0.8065 - val_Recall: 0.8065 - val_Precision: 0.8065 - val_AUC: 0.8857\n",
            "Epoch 22/100\n",
            "1681/1681 [==============================] - 22s 13ms/step - loss: 0.1031 - accuracy: 0.8546 - Recall: 0.8546 - Precision: 0.8546 - AUC: 0.9312 - val_loss: 0.1392 - val_accuracy: 0.8065 - val_Recall: 0.8065 - val_Precision: 0.8065 - val_AUC: 0.8875\n",
            "Epoch 23/100\n",
            "1681/1681 [==============================] - 24s 14ms/step - loss: 0.1018 - accuracy: 0.8585 - Recall: 0.8585 - Precision: 0.8585 - AUC: 0.9326 - val_loss: 0.1447 - val_accuracy: 0.7995 - val_Recall: 0.7995 - val_Precision: 0.7995 - val_AUC: 0.8871\n",
            "Epoch 24/100\n",
            "1681/1681 [==============================] - 22s 13ms/step - loss: 0.0987 - accuracy: 0.8633 - Recall: 0.8633 - Precision: 0.8633 - AUC: 0.9361 - val_loss: 0.1391 - val_accuracy: 0.8052 - val_Recall: 0.8052 - val_Precision: 0.8052 - val_AUC: 0.8889\n",
            "Epoch 25/100\n",
            "1681/1681 [==============================] - 23s 14ms/step - loss: 0.0957 - accuracy: 0.8678 - Recall: 0.8678 - Precision: 0.8678 - AUC: 0.9397 - val_loss: 0.1384 - val_accuracy: 0.8119 - val_Recall: 0.8119 - val_Precision: 0.8119 - val_AUC: 0.8885\n",
            "Epoch 26/100\n",
            "1681/1681 [==============================] - 23s 13ms/step - loss: 0.0961 - accuracy: 0.8678 - Recall: 0.8678 - Precision: 0.8678 - AUC: 0.9386 - val_loss: 0.1410 - val_accuracy: 0.8159 - val_Recall: 0.8159 - val_Precision: 0.8159 - val_AUC: 0.8860\n",
            "Epoch 27/100\n",
            "1681/1681 [==============================] - 23s 14ms/step - loss: 0.0937 - accuracy: 0.8705 - Recall: 0.8705 - Precision: 0.8705 - AUC: 0.9413 - val_loss: 0.1379 - val_accuracy: 0.8139 - val_Recall: 0.8139 - val_Precision: 0.8139 - val_AUC: 0.8910\n",
            "Epoch 28/100\n",
            "1681/1681 [==============================] - 23s 14ms/step - loss: 0.0905 - accuracy: 0.8738 - Recall: 0.8738 - Precision: 0.8738 - AUC: 0.9449 - val_loss: 0.1397 - val_accuracy: 0.8108 - val_Recall: 0.8108 - val_Precision: 0.8108 - val_AUC: 0.8888\n",
            "Epoch 29/100\n",
            "1681/1681 [==============================] - 24s 14ms/step - loss: 0.0875 - accuracy: 0.8788 - Recall: 0.8788 - Precision: 0.8788 - AUC: 0.9477 - val_loss: 0.1399 - val_accuracy: 0.8149 - val_Recall: 0.8149 - val_Precision: 0.8149 - val_AUC: 0.8923\n",
            "Epoch 30/100\n",
            "1681/1681 [==============================] - 24s 14ms/step - loss: 0.0875 - accuracy: 0.8791 - Recall: 0.8791 - Precision: 0.8791 - AUC: 0.9486 - val_loss: 0.1360 - val_accuracy: 0.8098 - val_Recall: 0.8098 - val_Precision: 0.8098 - val_AUC: 0.8934\n",
            "Epoch 31/100\n",
            "1681/1681 [==============================] - 23s 13ms/step - loss: 0.0870 - accuracy: 0.8783 - Recall: 0.8783 - Precision: 0.8783 - AUC: 0.9487 - val_loss: 0.1337 - val_accuracy: 0.8169 - val_Recall: 0.8169 - val_Precision: 0.8169 - val_AUC: 0.8939\n",
            "Epoch 32/100\n",
            "1681/1681 [==============================] - 23s 14ms/step - loss: 0.0844 - accuracy: 0.8834 - Recall: 0.8834 - Precision: 0.8834 - AUC: 0.9511 - val_loss: 0.1346 - val_accuracy: 0.8172 - val_Recall: 0.8172 - val_Precision: 0.8172 - val_AUC: 0.8967\n",
            "Epoch 33/100\n",
            "1681/1681 [==============================] - 25s 15ms/step - loss: 0.0844 - accuracy: 0.8825 - Recall: 0.8825 - Precision: 0.8825 - AUC: 0.9505 - val_loss: 0.1319 - val_accuracy: 0.8212 - val_Recall: 0.8212 - val_Precision: 0.8212 - val_AUC: 0.8969\n",
            "Epoch 34/100\n",
            "1681/1681 [==============================] - 22s 13ms/step - loss: 0.0812 - accuracy: 0.8896 - Recall: 0.8896 - Precision: 0.8896 - AUC: 0.9532 - val_loss: 0.1404 - val_accuracy: 0.8172 - val_Recall: 0.8172 - val_Precision: 0.8172 - val_AUC: 0.8906\n",
            "Epoch 35/100\n",
            "1681/1681 [==============================] - 24s 14ms/step - loss: 0.0818 - accuracy: 0.8861 - Recall: 0.8861 - Precision: 0.8861 - AUC: 0.9538 - val_loss: 0.1380 - val_accuracy: 0.8182 - val_Recall: 0.8182 - val_Precision: 0.8182 - val_AUC: 0.8924\n",
            "Epoch 36/100\n",
            "1681/1681 [==============================] - 23s 13ms/step - loss: 0.0797 - accuracy: 0.8908 - Recall: 0.8908 - Precision: 0.8908 - AUC: 0.9550 - val_loss: 0.1349 - val_accuracy: 0.8152 - val_Recall: 0.8152 - val_Precision: 0.8152 - val_AUC: 0.8953\n",
            "Epoch 37/100\n",
            "1681/1681 [==============================] - 24s 14ms/step - loss: 0.0803 - accuracy: 0.8898 - Recall: 0.8898 - Precision: 0.8898 - AUC: 0.9542 - val_loss: 0.1356 - val_accuracy: 0.8232 - val_Recall: 0.8232 - val_Precision: 0.8232 - val_AUC: 0.8958\n",
            "Epoch 38/100\n",
            "1681/1681 [==============================] - 24s 15ms/step - loss: 0.0781 - accuracy: 0.8926 - Recall: 0.8926 - Precision: 0.8926 - AUC: 0.9565 - val_loss: 0.1394 - val_accuracy: 0.8162 - val_Recall: 0.8162 - val_Precision: 0.8162 - val_AUC: 0.8895\n",
            "Epoch 39/100\n",
            "1681/1681 [==============================] - 22s 13ms/step - loss: 0.0767 - accuracy: 0.8962 - Recall: 0.8962 - Precision: 0.8962 - AUC: 0.9582 - val_loss: 0.1375 - val_accuracy: 0.8249 - val_Recall: 0.8249 - val_Precision: 0.8249 - val_AUC: 0.8938\n",
            "Epoch 40/100\n",
            "1681/1681 [==============================] - 25s 15ms/step - loss: 0.0763 - accuracy: 0.8956 - Recall: 0.8956 - Precision: 0.8956 - AUC: 0.9581 - val_loss: 0.1351 - val_accuracy: 0.8169 - val_Recall: 0.8169 - val_Precision: 0.8169 - val_AUC: 0.8948\n",
            "Epoch 41/100\n",
            "1681/1681 [==============================] - 23s 14ms/step - loss: 0.0751 - accuracy: 0.8969 - Recall: 0.8969 - Precision: 0.8969 - AUC: 0.9594 - val_loss: 0.1363 - val_accuracy: 0.8249 - val_Recall: 0.8249 - val_Precision: 0.8249 - val_AUC: 0.8950\n",
            "Epoch 42/100\n",
            "1681/1681 [==============================] - 23s 14ms/step - loss: 0.0743 - accuracy: 0.8972 - Recall: 0.8972 - Precision: 0.8972 - AUC: 0.9604 - val_loss: 0.1360 - val_accuracy: 0.8196 - val_Recall: 0.8196 - val_Precision: 0.8196 - val_AUC: 0.8954\n",
            "Epoch 43/100\n",
            "1681/1681 [==============================] - 25s 15ms/step - loss: 0.0728 - accuracy: 0.8995 - Recall: 0.8994 - Precision: 0.8995 - AUC: 0.9614 - val_loss: 0.1353 - val_accuracy: 0.8199 - val_Recall: 0.8199 - val_Precision: 0.8199 - val_AUC: 0.8968\n",
            "Epoch 44/100\n",
            "1681/1681 [==============================] - 22s 13ms/step - loss: 0.0733 - accuracy: 0.8989 - Recall: 0.8989 - Precision: 0.8989 - AUC: 0.9610 - val_loss: 0.1388 - val_accuracy: 0.8179 - val_Recall: 0.8179 - val_Precision: 0.8179 - val_AUC: 0.8892\n",
            "Epoch 45/100\n",
            "1681/1681 [==============================] - 24s 14ms/step - loss: 0.0716 - accuracy: 0.9015 - Recall: 0.9015 - Precision: 0.9015 - AUC: 0.9625 - val_loss: 0.1339 - val_accuracy: 0.8249 - val_Recall: 0.8249 - val_Precision: 0.8249 - val_AUC: 0.8970\n",
            "Epoch 46/100\n",
            "1681/1681 [==============================] - 23s 13ms/step - loss: 0.0692 - accuracy: 0.9045 - Recall: 0.9045 - Precision: 0.9045 - AUC: 0.9644 - val_loss: 0.1393 - val_accuracy: 0.8182 - val_Recall: 0.8182 - val_Precision: 0.8182 - val_AUC: 0.8910\n",
            "Epoch 47/100\n",
            "1681/1681 [==============================] - 23s 14ms/step - loss: 0.0704 - accuracy: 0.9021 - Recall: 0.9021 - Precision: 0.9021 - AUC: 0.9636 - val_loss: 0.1328 - val_accuracy: 0.8252 - val_Recall: 0.8252 - val_Precision: 0.8252 - val_AUC: 0.8998\n",
            "Epoch 48/100\n",
            "1681/1681 [==============================] - 23s 14ms/step - loss: 0.0691 - accuracy: 0.9052 - Recall: 0.9052 - Precision: 0.9052 - AUC: 0.9648 - val_loss: 0.1348 - val_accuracy: 0.8242 - val_Recall: 0.8242 - val_Precision: 0.8242 - val_AUC: 0.8957\n",
            "Epoch 49/100\n",
            "1681/1681 [==============================] - 22s 13ms/step - loss: 0.0674 - accuracy: 0.9079 - Recall: 0.9079 - Precision: 0.9079 - AUC: 0.9658 - val_loss: 0.1392 - val_accuracy: 0.8169 - val_Recall: 0.8169 - val_Precision: 0.8169 - val_AUC: 0.8938\n",
            "Epoch 50/100\n",
            "1681/1681 [==============================] - 24s 14ms/step - loss: 0.0671 - accuracy: 0.9087 - Recall: 0.9087 - Precision: 0.9087 - AUC: 0.9660 - val_loss: 0.1383 - val_accuracy: 0.8202 - val_Recall: 0.8202 - val_Precision: 0.8202 - val_AUC: 0.8934\n",
            "Epoch 51/100\n",
            "1681/1681 [==============================] - 23s 14ms/step - loss: 0.0674 - accuracy: 0.9083 - Recall: 0.9083 - Precision: 0.9083 - AUC: 0.9665 - val_loss: 0.1343 - val_accuracy: 0.8212 - val_Recall: 0.8212 - val_Precision: 0.8212 - val_AUC: 0.8971\n",
            "Epoch 52/100\n",
            "1681/1681 [==============================] - 23s 14ms/step - loss: 0.0645 - accuracy: 0.9125 - Recall: 0.9125 - Precision: 0.9125 - AUC: 0.9682 - val_loss: 0.1372 - val_accuracy: 0.8175 - val_Recall: 0.8175 - val_Precision: 0.8175 - val_AUC: 0.8957\n",
            "Epoch 53/100\n",
            "1681/1681 [==============================] - 23s 14ms/step - loss: 0.0630 - accuracy: 0.9144 - Recall: 0.9144 - Precision: 0.9144 - AUC: 0.9696 - val_loss: 0.1363 - val_accuracy: 0.8242 - val_Recall: 0.8242 - val_Precision: 0.8242 - val_AUC: 0.8957\n",
            "Epoch 54/100\n",
            "1681/1681 [==============================] - 23s 13ms/step - loss: 0.0638 - accuracy: 0.9125 - Recall: 0.9125 - Precision: 0.9125 - AUC: 0.9687 - val_loss: 0.1392 - val_accuracy: 0.8229 - val_Recall: 0.8229 - val_Precision: 0.8229 - val_AUC: 0.8954\n",
            "Epoch 55/100\n",
            "1681/1681 [==============================] - 23s 14ms/step - loss: 0.0656 - accuracy: 0.9119 - Recall: 0.9119 - Precision: 0.9119 - AUC: 0.9676 - val_loss: 0.1380 - val_accuracy: 0.8252 - val_Recall: 0.8252 - val_Precision: 0.8252 - val_AUC: 0.8967\n",
            "Epoch 56/100\n",
            "1681/1681 [==============================] - 22s 13ms/step - loss: 0.0619 - accuracy: 0.9156 - Recall: 0.9156 - Precision: 0.9156 - AUC: 0.9703 - val_loss: 0.1326 - val_accuracy: 0.8346 - val_Recall: 0.8346 - val_Precision: 0.8346 - val_AUC: 0.8974\n",
            "Epoch 57/100\n",
            "1681/1681 [==============================] - 23s 14ms/step - loss: 0.0627 - accuracy: 0.9146 - Recall: 0.9146 - Precision: 0.9146 - AUC: 0.9694 - val_loss: 0.1387 - val_accuracy: 0.8185 - val_Recall: 0.8185 - val_Precision: 0.8185 - val_AUC: 0.8939\n",
            "Epoch 58/100\n",
            "1681/1681 [==============================] - 22s 13ms/step - loss: 0.0633 - accuracy: 0.9135 - Recall: 0.9135 - Precision: 0.9135 - AUC: 0.9692 - val_loss: 0.1385 - val_accuracy: 0.8226 - val_Recall: 0.8226 - val_Precision: 0.8226 - val_AUC: 0.8953\n",
            "Epoch 59/100\n",
            "1681/1681 [==============================] - 24s 14ms/step - loss: 0.0607 - accuracy: 0.9170 - Recall: 0.9170 - Precision: 0.9170 - AUC: 0.9712 - val_loss: 0.1409 - val_accuracy: 0.8212 - val_Recall: 0.8212 - val_Precision: 0.8212 - val_AUC: 0.8917\n",
            "Epoch 60/100\n",
            "1681/1681 [==============================] - 22s 13ms/step - loss: 0.0602 - accuracy: 0.9183 - Recall: 0.9183 - Precision: 0.9183 - AUC: 0.9713 - val_loss: 0.1338 - val_accuracy: 0.8346 - val_Recall: 0.8346 - val_Precision: 0.8346 - val_AUC: 0.8984\n",
            "Epoch 61/100\n",
            "1681/1681 [==============================] - 25s 15ms/step - loss: 0.0602 - accuracy: 0.9192 - Recall: 0.9192 - Precision: 0.9192 - AUC: 0.9719 - val_loss: 0.1409 - val_accuracy: 0.8222 - val_Recall: 0.8222 - val_Precision: 0.8222 - val_AUC: 0.8927\n",
            "Epoch 62/100\n",
            "1681/1681 [==============================] - 22s 13ms/step - loss: 0.0598 - accuracy: 0.9181 - Recall: 0.9181 - Precision: 0.9181 - AUC: 0.9720 - val_loss: 0.1376 - val_accuracy: 0.8283 - val_Recall: 0.8283 - val_Precision: 0.8283 - val_AUC: 0.8974\n",
            "Epoch 63/100\n",
            "1681/1681 [==============================] - 24s 14ms/step - loss: 0.0593 - accuracy: 0.9184 - Recall: 0.9184 - Precision: 0.9184 - AUC: 0.9723 - val_loss: 0.1409 - val_accuracy: 0.8259 - val_Recall: 0.8259 - val_Precision: 0.8259 - val_AUC: 0.8942\n",
            "Epoch 64/100\n",
            "1681/1681 [==============================] - 25s 15ms/step - loss: 0.0589 - accuracy: 0.9201 - Recall: 0.9201 - Precision: 0.9201 - AUC: 0.9726 - val_loss: 0.1384 - val_accuracy: 0.8261 - val_Recall: 0.8262 - val_Precision: 0.8260 - val_AUC: 0.8964\n",
            "Epoch 65/100\n",
            "1681/1681 [==============================] - 22s 13ms/step - loss: 0.0590 - accuracy: 0.9206 - Recall: 0.9206 - Precision: 0.9206 - AUC: 0.9723 - val_loss: 0.1353 - val_accuracy: 0.8309 - val_Recall: 0.8309 - val_Precision: 0.8309 - val_AUC: 0.8980\n",
            "Epoch 66/100\n",
            "1681/1681 [==============================] - 24s 14ms/step - loss: 0.0593 - accuracy: 0.9204 - Recall: 0.9204 - Precision: 0.9204 - AUC: 0.9725 - val_loss: 0.1360 - val_accuracy: 0.8276 - val_Recall: 0.8276 - val_Precision: 0.8276 - val_AUC: 0.8957\n",
            "Epoch 67/100\n",
            "1681/1681 [==============================] - 22s 13ms/step - loss: 0.0561 - accuracy: 0.9244 - Recall: 0.9244 - Precision: 0.9244 - AUC: 0.9743 - val_loss: 0.1399 - val_accuracy: 0.8259 - val_Recall: 0.8259 - val_Precision: 0.8259 - val_AUC: 0.8932\n",
            "Epoch 68/100\n",
            "1681/1681 [==============================] - 23s 14ms/step - loss: 0.0569 - accuracy: 0.9229 - Recall: 0.9229 - Precision: 0.9229 - AUC: 0.9735 - val_loss: 0.1418 - val_accuracy: 0.8234 - val_Recall: 0.8236 - val_Precision: 0.8233 - val_AUC: 0.8890\n",
            "Epoch 69/100\n",
            "1681/1681 [==============================] - 23s 14ms/step - loss: 0.0566 - accuracy: 0.9227 - Recall: 0.9227 - Precision: 0.9227 - AUC: 0.9742 - val_loss: 0.1464 - val_accuracy: 0.8232 - val_Recall: 0.8232 - val_Precision: 0.8232 - val_AUC: 0.8910\n",
            "Epoch 70/100\n",
            "1681/1681 [==============================] - 23s 14ms/step - loss: 0.0570 - accuracy: 0.9225 - Recall: 0.9225 - Precision: 0.9225 - AUC: 0.9741 - val_loss: 0.1365 - val_accuracy: 0.8309 - val_Recall: 0.8309 - val_Precision: 0.8309 - val_AUC: 0.8943\n",
            "Epoch 71/100\n",
            "1681/1681 [==============================] - 24s 14ms/step - loss: 0.0557 - accuracy: 0.9247 - Recall: 0.9247 - Precision: 0.9247 - AUC: 0.9745 - val_loss: 0.1422 - val_accuracy: 0.8212 - val_Recall: 0.8212 - val_Precision: 0.8212 - val_AUC: 0.8919\n",
            "Epoch 72/100\n",
            "1681/1681 [==============================] - 24s 14ms/step - loss: 0.0570 - accuracy: 0.9238 - Recall: 0.9238 - Precision: 0.9238 - AUC: 0.9739 - val_loss: 0.1432 - val_accuracy: 0.8192 - val_Recall: 0.8192 - val_Precision: 0.8192 - val_AUC: 0.8930\n",
            "Epoch 73/100\n",
            "1681/1681 [==============================] - 24s 14ms/step - loss: 0.0535 - accuracy: 0.9275 - Recall: 0.9275 - Precision: 0.9275 - AUC: 0.9764 - val_loss: 0.1409 - val_accuracy: 0.8286 - val_Recall: 0.8286 - val_Precision: 0.8286 - val_AUC: 0.8940\n",
            "Epoch 74/100\n",
            "1681/1681 [==============================] - 25s 15ms/step - loss: 0.0549 - accuracy: 0.9257 - Recall: 0.9257 - Precision: 0.9257 - AUC: 0.9752 - val_loss: 0.1397 - val_accuracy: 0.8232 - val_Recall: 0.8232 - val_Precision: 0.8232 - val_AUC: 0.8935\n",
            "Epoch 75/100\n",
            "1681/1681 [==============================] - 23s 13ms/step - loss: 0.0537 - accuracy: 0.9271 - Recall: 0.9271 - Precision: 0.9271 - AUC: 0.9767 - val_loss: 0.1360 - val_accuracy: 0.8370 - val_Recall: 0.8370 - val_Precision: 0.8370 - val_AUC: 0.8980\n",
            "Epoch 76/100\n",
            "1681/1681 [==============================] - 24s 14ms/step - loss: 0.0549 - accuracy: 0.9256 - Recall: 0.9256 - Precision: 0.9256 - AUC: 0.9753 - val_loss: 0.1364 - val_accuracy: 0.8289 - val_Recall: 0.8289 - val_Precision: 0.8289 - val_AUC: 0.8981\n",
            "Epoch 77/100\n",
            "1681/1681 [==============================] - 23s 13ms/step - loss: 0.0518 - accuracy: 0.9281 - Recall: 0.9281 - Precision: 0.9281 - AUC: 0.9774 - val_loss: 0.1421 - val_accuracy: 0.8239 - val_Recall: 0.8239 - val_Precision: 0.8239 - val_AUC: 0.8936\n",
            "Epoch 78/100\n",
            "1681/1681 [==============================] - 24s 14ms/step - loss: 0.0540 - accuracy: 0.9265 - Recall: 0.9265 - Precision: 0.9265 - AUC: 0.9761 - val_loss: 0.1425 - val_accuracy: 0.8172 - val_Recall: 0.8172 - val_Precision: 0.8172 - val_AUC: 0.8943\n",
            "Epoch 79/100\n",
            "1681/1681 [==============================] - 24s 14ms/step - loss: 0.0533 - accuracy: 0.9278 - Recall: 0.9278 - Precision: 0.9278 - AUC: 0.9755 - val_loss: 0.1459 - val_accuracy: 0.8226 - val_Recall: 0.8226 - val_Precision: 0.8226 - val_AUC: 0.8940\n",
            "Epoch 80/100\n",
            "1681/1681 [==============================] - 22s 13ms/step - loss: 0.0535 - accuracy: 0.9283 - Recall: 0.9283 - Precision: 0.9283 - AUC: 0.9764 - val_loss: 0.1404 - val_accuracy: 0.8262 - val_Recall: 0.8262 - val_Precision: 0.8262 - val_AUC: 0.8922\n",
            "Epoch 81/100\n",
            "1681/1681 [==============================] - 24s 14ms/step - loss: 0.0525 - accuracy: 0.9282 - Recall: 0.9282 - Precision: 0.9282 - AUC: 0.9766 - val_loss: 0.1404 - val_accuracy: 0.8269 - val_Recall: 0.8269 - val_Precision: 0.8269 - val_AUC: 0.8941\n",
            "Epoch 82/100\n",
            "1681/1681 [==============================] - 24s 14ms/step - loss: 0.0528 - accuracy: 0.9280 - Recall: 0.9280 - Precision: 0.9280 - AUC: 0.9772 - val_loss: 0.1367 - val_accuracy: 0.8276 - val_Recall: 0.8276 - val_Precision: 0.8276 - val_AUC: 0.8977\n",
            "Epoch 83/100\n",
            "1681/1681 [==============================] - 23s 14ms/step - loss: 0.0522 - accuracy: 0.9292 - Recall: 0.9292 - Precision: 0.9292 - AUC: 0.9770 - val_loss: 0.1409 - val_accuracy: 0.8276 - val_Recall: 0.8276 - val_Precision: 0.8276 - val_AUC: 0.8936\n",
            "Epoch 84/100\n",
            "1681/1681 [==============================] - 23s 13ms/step - loss: 0.0513 - accuracy: 0.9308 - Recall: 0.9308 - Precision: 0.9308 - AUC: 0.9780 - val_loss: 0.1396 - val_accuracy: 0.8303 - val_Recall: 0.8303 - val_Precision: 0.8303 - val_AUC: 0.8932\n",
            "Epoch 85/100\n",
            "1681/1681 [==============================] - 24s 14ms/step - loss: 0.0513 - accuracy: 0.9324 - Recall: 0.9324 - Precision: 0.9324 - AUC: 0.9776 - val_loss: 0.1373 - val_accuracy: 0.8273 - val_Recall: 0.8273 - val_Precision: 0.8273 - val_AUC: 0.8957\n",
            "Epoch 86/100\n",
            "1681/1681 [==============================] - 25s 15ms/step - loss: 0.0499 - accuracy: 0.9327 - Recall: 0.9327 - Precision: 0.9327 - AUC: 0.9783 - val_loss: 0.1368 - val_accuracy: 0.8329 - val_Recall: 0.8329 - val_Precision: 0.8329 - val_AUC: 0.8961\n",
            "Epoch 87/100\n",
            "1681/1681 [==============================] - 23s 14ms/step - loss: 0.0488 - accuracy: 0.9336 - Recall: 0.9336 - Precision: 0.9336 - AUC: 0.9787 - val_loss: 0.1329 - val_accuracy: 0.8289 - val_Recall: 0.8289 - val_Precision: 0.8289 - val_AUC: 0.9002\n",
            "Epoch 88/100\n",
            "1681/1681 [==============================] - 24s 15ms/step - loss: 0.0497 - accuracy: 0.9331 - Recall: 0.9331 - Precision: 0.9331 - AUC: 0.9782 - val_loss: 0.1415 - val_accuracy: 0.8256 - val_Recall: 0.8256 - val_Precision: 0.8256 - val_AUC: 0.8942\n",
            "Epoch 89/100\n",
            "1681/1681 [==============================] - 23s 13ms/step - loss: 0.0478 - accuracy: 0.9362 - Recall: 0.9362 - Precision: 0.9362 - AUC: 0.9791 - val_loss: 0.1497 - val_accuracy: 0.8169 - val_Recall: 0.8169 - val_Precision: 0.8169 - val_AUC: 0.8882\n",
            "Epoch 90/100\n",
            "1681/1681 [==============================] - 24s 14ms/step - loss: 0.0495 - accuracy: 0.9335 - Recall: 0.9335 - Precision: 0.9335 - AUC: 0.9784 - val_loss: 0.1479 - val_accuracy: 0.8169 - val_Recall: 0.8169 - val_Precision: 0.8169 - val_AUC: 0.8901\n",
            "Epoch 91/100\n",
            "1681/1681 [==============================] - 24s 14ms/step - loss: 0.0489 - accuracy: 0.9337 - Recall: 0.9337 - Precision: 0.9337 - AUC: 0.9793 - val_loss: 0.1477 - val_accuracy: 0.8202 - val_Recall: 0.8202 - val_Precision: 0.8202 - val_AUC: 0.8895\n",
            "Epoch 92/100\n",
            "1681/1681 [==============================] - 24s 15ms/step - loss: 0.0484 - accuracy: 0.9342 - Recall: 0.9342 - Precision: 0.9342 - AUC: 0.9799 - val_loss: 0.1425 - val_accuracy: 0.8212 - val_Recall: 0.8212 - val_Precision: 0.8212 - val_AUC: 0.8943\n",
            "Epoch 93/100\n",
            "1681/1681 [==============================] - 24s 14ms/step - loss: 0.0473 - accuracy: 0.9363 - Recall: 0.9363 - Precision: 0.9363 - AUC: 0.9800 - val_loss: 0.1409 - val_accuracy: 0.8289 - val_Recall: 0.8289 - val_Precision: 0.8289 - val_AUC: 0.8940\n",
            "Epoch 94/100\n",
            "1681/1681 [==============================] - 22s 13ms/step - loss: 0.0467 - accuracy: 0.9368 - Recall: 0.9368 - Precision: 0.9368 - AUC: 0.9805 - val_loss: 0.1447 - val_accuracy: 0.8269 - val_Recall: 0.8269 - val_Precision: 0.8269 - val_AUC: 0.8935\n",
            "Epoch 95/100\n",
            "1681/1681 [==============================] - 24s 14ms/step - loss: 0.0484 - accuracy: 0.9349 - Recall: 0.9349 - Precision: 0.9349 - AUC: 0.9798 - val_loss: 0.1396 - val_accuracy: 0.8296 - val_Recall: 0.8296 - val_Precision: 0.8296 - val_AUC: 0.8947\n",
            "Epoch 96/100\n",
            "1681/1681 [==============================] - 22s 13ms/step - loss: 0.0455 - accuracy: 0.9374 - Recall: 0.9374 - Precision: 0.9374 - AUC: 0.9819 - val_loss: 0.1390 - val_accuracy: 0.8299 - val_Recall: 0.8299 - val_Precision: 0.8299 - val_AUC: 0.8930\n",
            "Epoch 97/100\n",
            "1681/1681 [==============================] - 24s 14ms/step - loss: 0.0462 - accuracy: 0.9366 - Recall: 0.9366 - Precision: 0.9366 - AUC: 0.9805 - val_loss: 0.1469 - val_accuracy: 0.8216 - val_Recall: 0.8216 - val_Precision: 0.8216 - val_AUC: 0.8900\n",
            "Epoch 98/100\n",
            "1681/1681 [==============================] - 24s 14ms/step - loss: 0.0457 - accuracy: 0.9394 - Recall: 0.9394 - Precision: 0.9394 - AUC: 0.9813 - val_loss: 0.1446 - val_accuracy: 0.8236 - val_Recall: 0.8236 - val_Precision: 0.8236 - val_AUC: 0.8919\n",
            "Epoch 99/100\n",
            "1681/1681 [==============================] - 23s 14ms/step - loss: 0.0472 - accuracy: 0.9369 - Recall: 0.9369 - Precision: 0.9369 - AUC: 0.9806 - val_loss: 0.1417 - val_accuracy: 0.8279 - val_Recall: 0.8279 - val_Precision: 0.8279 - val_AUC: 0.8930\n",
            "Epoch 100/100\n",
            "1681/1681 [==============================] - 24s 14ms/step - loss: 0.0474 - accuracy: 0.9360 - Recall: 0.9360 - Precision: 0.9360 - AUC: 0.9808 - val_loss: 0.1414 - val_accuracy: 0.8229 - val_Recall: 0.8229 - val_Precision: 0.8229 - val_AUC: 0.8957\n"
          ]
        }
      ],
      "source": [
        "# Training the model\n",
        "history = model.fit(X_train, Y_train, epochs=100, batch_size=16, validation_data=(X_valid, Y_valid))"
      ]
    },
    {
      "cell_type": "code",
      "execution_count": null,
      "metadata": {
        "colab": {
          "base_uri": "https://localhost:8080/"
        },
        "id": "IA3woxHLH32v",
        "outputId": "5d1aacb0-c6cd-4b59-8fac-943f9afa7f90"
      },
      "outputs": [
        {
          "name": "stdout",
          "output_type": "stream",
          "text": [
            "234/234 [==============================] - 2s 5ms/step\n"
          ]
        }
      ],
      "source": [
        "predictions=model.predict([X_test])"
      ]
    },
    {
      "cell_type": "code",
      "execution_count": null,
      "metadata": {
        "colab": {
          "base_uri": "https://localhost:8080/",
          "height": 466
        },
        "id": "rkXA4LTNI5l7",
        "outputId": "7eecbccb-7e53-401a-94e1-5ee94771220b"
      },
      "outputs": [
        {
          "data": {
            "text/plain": [
              "Text(0, 0.5, 'Accuracy')"
            ]
          },
          "execution_count": 24,
          "metadata": {},
          "output_type": "execute_result"
        },
        {
          "data": {
            "image/png": "[encoded data removed]",
            "text/plain": [
              "<Figure size 640x480 with 1 Axes>"
            ]
          },
          "metadata": {},
          "output_type": "display_data"
        }
      ],
      "source": [
        "plt.plot(history.history['accuracy'])\n",
        "plt.plot(history.history['val_accuracy'])\n",
        "plt.legend(['Training accuracy','validation accuracy'])\n",
        "plt.xlabel(\"Epochs\")\n",
        "plt.ylabel(\"Accuracy\")"
      ]
    },
    {
      "cell_type": "code",
      "execution_count": null,
      "metadata": {
        "colab": {
          "base_uri": "https://localhost:8080/",
          "height": 466
        },
        "id": "SfYMJQRHJzQq",
        "outputId": "556f0cc8-4548-4d96-a677-a0475bfaaad5"
      },
      "outputs": [
        {
          "data": {
            "text/plain": [
              "Text(0, 0.5, 'Loss')"
            ]
          },
          "execution_count": 25,
          "metadata": {},
          "output_type": "execute_result"
        },
        {
          "data": {
            "image/png": "[encoded data removed]",
            "text/plain": [
              "<Figure size 640x480 with 1 Axes>"
            ]
          },
          "metadata": {},
          "output_type": "display_data"
        }
      ],
      "source": [
        "plt.plot(history.history['loss'])\n",
        "plt.plot(history.history['val_loss'])\n",
        "plt.legend(['Training loss','validation loss'])\n",
        "plt.xlabel(\"Epochs\")\n",
        "plt.ylabel(\"Loss\")"
      ]
    },
    {
      "cell_type": "code",
      "execution_count": null,
      "metadata": {
        "colab": {
          "base_uri": "https://localhost:8080/",
          "height": 699
        },
        "id": "I-GGwUyAU-yM",
        "outputId": "a0cf3f92-34c8-45d4-c0dc-034e9a718bb8"
      },
      "outputs": [
        {
          "data": {
            "image/png": "[encoded data removed]",
            "text/plain": [
              "<Figure size 750x750 with 1 Axes>"
            ]
          },
          "metadata": {},
          "output_type": "display_data"
        }
      ],
      "source": [
        "from sklearn.metrics import classification_report, confusion_matrix\n",
        "cm=confusion_matrix(Y_test.argmax(axis=1), predictions.argmax(axis=1 ))\n",
        "fig, ax = plt.subplots(figsize=(7.5, 7.5))\n",
        "ax.matshow(cm, cmap=plt.cm.Blues, alpha=0.3)\n",
        "for i in range(cm.shape[0]):\n",
        "    for j in range(cm.shape[1]):\n",
        "        ax.text(x=j, y=i,s=cm[i, j], va='center', ha='center', size='large')\n",
        "\n",
        "plt.xlabel('Predictions', fontsize=18)\n",
        "plt.ylabel('Actuals', fontsize=18)\n",
        "plt.title('Confusion Matrix', fontsize=18)\n",
        "plt.show()"
      ]
    },
    {
      "cell_type": "code",
      "execution_count": null,
      "metadata": {
        "colab": {
          "base_uri": "https://localhost:8080/"
        },
        "id": "Bjs_WWFLVkgX",
        "outputId": "c215c8b9-0cd2-44c5-c901-7c50b1bd0145"
      },
      "outputs": [
        {
          "name": "stdout",
          "output_type": "stream",
          "text": [
            "              precision    recall  f1-score   support\n",
            "\n",
            "           0       0.83      0.75      0.79      3456\n",
            "           1       0.80      0.87      0.83      4011\n",
            "\n",
            "    accuracy                           0.82      7467\n",
            "   macro avg       0.82      0.81      0.81      7467\n",
            "weighted avg       0.82      0.82      0.81      7467\n",
            "\n"
          ]
        }
      ],
      "source": [
        "print(classification_report(Y_test.argmax(axis=1), predictions.argmax(axis=1)))"
      ]
    },
    {
      "cell_type": "code",
      "execution_count": null,
      "metadata": {
        "colab": {
          "base_uri": "https://localhost:8080/"
        },
        "id": "8Qd4uQJqVwdn",
        "outputId": "a8960fc5-4828-4560-edd6-1e6af53fc375"
      },
      "outputs": [
        {
          "name": "stdout",
          "output_type": "stream",
          "text": [
            "Accuracy: 0.815321\n"
          ]
        }
      ],
      "source": [
        "from sklearn.metrics import classification_report, confusion_matrix\n",
        "from sklearn.metrics import accuracy_score, f1_score, precision_score, recall_score\n",
        "print('Accuracy: %3f' % accuracy_score(Y_test.argmax(axis=1), predictions.argmax(axis=1)))"
      ]
    },
    {
      "cell_type": "code",
      "execution_count": null,
      "metadata": {
        "id": "hIruUKdZjhgh"
      },
      "outputs": [],
      "source": []
    },
    {
      "cell_type": "code",
      "execution_count": null,
      "metadata": {
        "colab": {
          "base_uri": "https://localhost:8080/"
        },
        "id": "QnTn5aLEFuQD",
        "outputId": "6a456c12-1237-4333-817a-e540504b9a99"
      },
      "outputs": [
        {
          "name": "stdout",
          "output_type": "stream",
          "text": [
            "234/234 - 1s - loss: 0.1518 - accuracy: 0.8153 - Recall: 0.8153 - Precision: 0.8153 - AUC: 0.8832 - 1s/epoch - 6ms/step\n",
            "Test Loss: 0.1517515778541565\n",
            "Test Accuracy: 0.8153207302093506\n"
          ]
        }
      ],
      "source": [
        "test_metrics = model.evaluate(X_test, Y_test, verbose=2)\n",
        "\n",
        "test_loss = test_metrics[0]  # The first value is the loss\n",
        "test_accuracy = test_metrics[1]  # The second value is the first metric (BinaryAccuracy in your case)\n",
        "# Access other metrics similarly (test_metrics[2] for Recall, etc.)\n",
        "\n",
        "print('Test Loss:', test_loss)\n",
        "print('Test Accuracy:', test_accuracy)"
      ]
    },
    {
      "cell_type": "markdown",
      "metadata": {
        "id": "c406Pfd0lggH"
      },
      "source": [
        "**2nd model test (for 200 epochs)**"
      ]
    },
    {
      "cell_type": "code",
      "execution_count": null,
      "metadata": {
        "id": "0rUaWcyPkCat"
      },
      "outputs": [],
      "source": [
        "from tensorflow.keras.models import Sequential\n",
        "from tensorflow.keras.layers import LSTM, Dense, Dropout, Conv1D, MaxPooling1D, Flatten, BatchNormalization\n",
        "from tensorflow.keras.optimizers import Adam\n",
        "from sklearn.model_selection import train_test_split\n",
        "\n",
        "\n",
        "model = Sequential()\n",
        "\n",
        "# First 1D convolutional layer\n",
        "model.add(Conv1D(filters=64, kernel_size=2, activation='relu', input_shape=(X_train.shape[1], X_train.shape[2])))\n",
        "model.add(BatchNormalization())\n",
        "model.add(MaxPooling1D(pool_size=2))\n",
        "model.add(Dropout(0.2))\n",
        "\n",
        "# Second 1D convolutional layer\n",
        "model.add(Conv1D(filters=128, kernel_size=2, activation='relu'))\n",
        "model.add(BatchNormalization())\n",
        "model.add(MaxPooling1D(pool_size=2))\n",
        "model.add(Dropout(0.3))\n",
        "\n",
        "# Third 1D convolutional layer\n",
        "model.add(Conv1D(filters=256, kernel_size=2, activation='relu'))\n",
        "model.add(BatchNormalization())\n",
        "model.add(MaxPooling1D(pool_size=2))\n",
        "model.add(Dropout(0.4))\n",
        "\n",
        "# First LSTM layer\n",
        "model.add(LSTM(128, return_sequences=True))\n",
        "model.add(Dropout(0.5))\n",
        "\n",
        "# Second LSTM layer\n",
        "model.add(LSTM(128))\n",
        "model.add(Dropout(0.5))\n",
        "\n",
        "# Flatten the output\n",
        "model.add(Flatten())\n",
        "\n",
        "# Fully connected layer\n",
        "model.add(Dense(256, activation='relu'))\n",
        "model.add(BatchNormalization())\n",
        "model.add(Dropout(0.5))\n",
        "\n",
        "# Fully connected layer\n",
        "model.add(Dense(128, activation='relu'))\n",
        "model.add(BatchNormalization())\n",
        "model.add(Dropout(0.5))\n",
        "\n",
        "# Output layer (assuming a binary classification task)\n",
        "model.add(Dense(2, activation='sigmoid'))\n"
      ]
    },
    {
      "cell_type": "code",
      "execution_count": null,
      "metadata": {
        "id": "KYgk9l0LobX2"
      },
      "outputs": [],
      "source": [
        "import tensorflow as tf\n",
        "# Compile the model\n",
        "optimizer = Adam(learning_rate=0.0001)\n",
        "model.compile(loss=tf.keras.losses.MeanSquaredError(),\n",
        "                  optimizer=tf.keras.optimizers.Adam(learning_rate=0.001),\n",
        "                  metrics=[tf.keras.metrics.BinaryAccuracy(name='accuracy', dtype=None, threshold=0.5),\n",
        "                  tf.keras.metrics.Recall(name='Recall'),\n",
        "                  tf.keras.metrics.Precision(name='Precision'),\n",
        "                  tf.keras.metrics.AUC( num_thresholds=200,\n",
        "                                        curve=\"ROC\",\n",
        "                                        summation_method=\"interpolation\",\n",
        "                                        name=\"AUC\",\n",
        "                                        dtype=None,\n",
        "                                        thresholds=None,\n",
        "                                        multi_label=True,\n",
        "                                       label_weights=None,)])\n",
        "\n",
        "# Define callbacks\n",
        "checkpoint_path = 'best_model.h5'\n",
        "checkpoint = ModelCheckpoint(checkpoint_path, monitor='val_accuracy', save_best_only=True, mode='max', verbose=1)\n",
        "early_stopping = EarlyStopping(monitor='val_loss', patience=10, restore_best_weights=True, verbose=1)\n"
      ]
    },
    {
      "cell_type": "code",
      "execution_count": null,
      "metadata": {
        "colab": {
          "base_uri": "https://localhost:8080/"
        },
        "id": "zq_FfJ5eohwG",
        "outputId": "2da1f0e5-47e6-456c-ef24-2b8f1c9647c5"
      },
      "outputs": [
        {
          "name": "stdout",
          "output_type": "stream",
          "text": [
            "Model: \"sequential_1\"\n",
            "_________________________________________________________________\n",
            " Layer (type)                Output Shape              Param #   \n",
            "=================================================================\n",
            " conv1d_2 (Conv1D)           (None, 680, 64)           192       \n",
            "                                                                 \n",
            " batch_normalization (Batch  (None, 680, 64)           256       \n",
            " Normalization)                                                  \n",
            "                                                                 \n",
            " max_pooling1d_2 (MaxPoolin  (None, 340, 64)           0         \n",
            " g1D)                                                            \n",
            "                                                                 \n",
            " dropout_2 (Dropout)         (None, 340, 64)           0         \n",
            "                                                                 \n",
            " conv1d_3 (Conv1D)           (None, 339, 128)          16512     \n",
            "                                                                 \n",
            " batch_normalization_1 (Bat  (None, 339, 128)          512       \n",
            " chNormalization)                                                \n",
            "                                                                 \n",
            " max_pooling1d_3 (MaxPoolin  (None, 169, 128)          0         \n",
            " g1D)                                                            \n",
            "                                                                 \n",
            " dropout_3 (Dropout)         (None, 169, 128)          0         \n",
            "                                                                 \n",
            " conv1d_4 (Conv1D)           (None, 168, 256)          65792     \n",
            "                                                                 \n",
            " batch_normalization_2 (Bat  (None, 168, 256)          1024      \n",
            " chNormalization)                                                \n",
            "                                                                 \n",
            " max_pooling1d_4 (MaxPoolin  (None, 84, 256)           0         \n",
            " g1D)                                                            \n",
            "                                                                 \n",
            " dropout_4 (Dropout)         (None, 84, 256)           0         \n",
            "                                                                 \n",
            " lstm_1 (LSTM)               (None, 84, 128)           197120    \n",
            "                                                                 \n",
            " dropout_5 (Dropout)         (None, 84, 128)           0         \n",
            "                                                                 \n",
            " lstm_2 (LSTM)               (None, 128)               131584    \n",
            "                                                                 \n",
            " dropout_6 (Dropout)         (None, 128)               0         \n",
            "                                                                 \n",
            " flatten_1 (Flatten)         (None, 128)               0         \n",
            "                                                                 \n",
            " dense_2 (Dense)             (None, 256)               33024     \n",
            "                                                                 \n",
            " batch_normalization_3 (Bat  (None, 256)               1024      \n",
            " chNormalization)                                                \n",
            "                                                                 \n",
            " dropout_7 (Dropout)         (None, 256)               0         \n",
            "                                                                 \n",
            " dense_3 (Dense)             (None, 128)               32896     \n",
            "                                                                 \n",
            " batch_normalization_4 (Bat  (None, 128)               512       \n",
            " chNormalization)                                                \n",
            "                                                                 \n",
            " dropout_8 (Dropout)         (None, 128)               0         \n",
            "                                                                 \n",
            " dense_4 (Dense)             (None, 2)                 258       \n",
            "                                                                 \n",
            "=================================================================\n",
            "Total params: 480706 (1.83 MB)\n",
            "Trainable params: 479042 (1.83 MB)\n",
            "Non-trainable params: 1664 (6.50 KB)\n",
            "_________________________________________________________________\n"
          ]
        }
      ],
      "source": [
        "model.summary()"
      ]
    },
    {
      "cell_type": "code",
      "execution_count": null,
      "metadata": {
        "colab": {
          "base_uri": "https://localhost:8080/",
          "height": 1000
        },
        "id": "XShZI8HSosfV",
        "outputId": "5c93ae1d-c557-49e5-bfe1-73d04ff0a380"
      },
      "outputs": [
        {
          "data": {
            "image/png": "[encoded data removed]",
            "text/plain": [
              "<IPython.core.display.Image object>"
            ]
          },
          "execution_count": 21,
          "metadata": {},
          "output_type": "execute_result"
        }
      ],
      "source": [
        "import keras\n",
        "from keras.utils import plot_model\n",
        "plot_model(model)"
      ]
    },
    {
      "cell_type": "code",
      "execution_count": null,
      "metadata": {
        "colab": {
          "background_save": true,
          "base_uri": "https://localhost:8080/"
        },
        "id": "_d4YKbt6o1Ie",
        "outputId": "2664db7c-a3c3-43c6-b8cc-03bbde0ffa93"
      },
      "outputs": [
        {
          "name": "stdout",
          "output_type": "stream",
          "text": [
            "Epoch 1/200\n",
            "1681/1681 [==============================] - 557s 327ms/step - loss: 0.2812 - accuracy: 0.5155 - Recall: 0.5165 - Precision: 0.5155 - AUC: 0.5034 - val_loss: 0.2495 - val_accuracy: 0.5328 - val_Recall: 0.5919 - val_Precision: 0.5293 - val_AUC: 0.5925\n",
            "Epoch 2/200\n",
            "1681/1681 [==============================] - 539s 320ms/step - loss: 0.2456 - accuracy: 0.5565 - Recall: 0.5566 - Precision: 0.5565 - AUC: 0.5661 - val_loss: 0.2398 - val_accuracy: 0.5762 - val_Recall: 0.5886 - val_Precision: 0.5743 - val_AUC: 0.6288\n",
            "Epoch 3/200\n",
            "1681/1681 [==============================] - 535s 319ms/step - loss: 0.2404 - accuracy: 0.5804 - Recall: 0.5808 - Precision: 0.5803 - AUC: 0.6042 - val_loss: 0.2355 - val_accuracy: 0.5998 - val_Recall: 0.5999 - val_Precision: 0.5997 - val_AUC: 0.6514\n",
            "Epoch 4/200\n",
            "1681/1681 [==============================] - 534s 317ms/step - loss: 0.2368 - accuracy: 0.5925 - Recall: 0.5926 - Precision: 0.5925 - AUC: 0.6236 - val_loss: 0.2340 - val_accuracy: 0.5854 - val_Recall: 0.5855 - val_Precision: 0.5853 - val_AUC: 0.6432\n",
            "Epoch 5/200\n",
            "1681/1681 [==============================] - 534s 318ms/step - loss: 0.2337 - accuracy: 0.6004 - Recall: 0.6004 - Precision: 0.6004 - AUC: 0.6370 - val_loss: 0.2301 - val_accuracy: 0.6110 - val_Recall: 0.6110 - val_Precision: 0.6110 - val_AUC: 0.6594\n",
            "Epoch 6/200\n",
            "1681/1681 [==============================] - 537s 320ms/step - loss: 0.2308 - accuracy: 0.6081 - Recall: 0.6082 - Precision: 0.6081 - AUC: 0.6483 - val_loss: 0.2265 - val_accuracy: 0.6217 - val_Recall: 0.6217 - val_Precision: 0.6217 - val_AUC: 0.6676\n",
            "Epoch 7/200\n",
            "1681/1681 [==============================] - 533s 317ms/step - loss: 0.2287 - accuracy: 0.6101 - Recall: 0.6101 - Precision: 0.6101 - AUC: 0.6528 - val_loss: 0.2283 - val_accuracy: 0.6133 - val_Recall: 0.6133 - val_Precision: 0.6133 - val_AUC: 0.6780\n",
            "Epoch 8/200\n",
            "1681/1681 [==============================] - 533s 317ms/step - loss: 0.2312 - accuracy: 0.6036 - Recall: 0.6037 - Precision: 0.6036 - AUC: 0.6442 - val_loss: 0.2216 - val_accuracy: 0.6254 - val_Recall: 0.6254 - val_Precision: 0.6254 - val_AUC: 0.6780\n",
            "Epoch 9/200\n",
            "1681/1681 [==============================] - 537s 319ms/step - loss: 0.2251 - accuracy: 0.6250 - Recall: 0.6250 - Precision: 0.6250 - AUC: 0.6681 - val_loss: 0.2181 - val_accuracy: 0.6348 - val_Recall: 0.6348 - val_Precision: 0.6348 - val_AUC: 0.6888\n",
            "Epoch 10/200\n",
            "1681/1681 [==============================] - 541s 322ms/step - loss: 0.2242 - accuracy: 0.6232 - Recall: 0.6232 - Precision: 0.6232 - AUC: 0.6694 - val_loss: 0.2199 - val_accuracy: 0.6341 - val_Recall: 0.6341 - val_Precision: 0.6341 - val_AUC: 0.6926\n",
            "Epoch 11/200\n",
            " 572/1681 [=========>....................] - ETA: 5:44 - loss: 0.2222 - accuracy: 0.6228 - Recall: 0.6228 - Precision: 0.6228 - AUC: 0.6700"
          ]
        }
      ],
      "source": [
        "# Training the model\n",
        "history = model.fit(X_train, Y_train, epochs=200, batch_size=16, validation_data=(X_valid, Y_valid))"
      ]
    },
    {
      "cell_type": "code",
      "execution_count": null,
      "metadata": {
        "colab": {
          "base_uri": "https://localhost:8080/"
        },
        "id": "ye_-vxfnoVi-",
        "outputId": "705bab99-8cc5-4b78-ad7f-e6c49ccda306"
      },
      "outputs": [
        {
          "name": "stdout",
          "output_type": "stream",
          "text": [
            "1.25.2\n"
          ]
        }
      ],
      "source": [
        "print(np.__version__)"
      ]
    },
    {
      "cell_type": "code",
      "execution_count": null,
      "metadata": {
        "colab": {
          "base_uri": "https://localhost:8080/"
        },
        "id": "7ReicmLZOKM2",
        "outputId": "6958c666-5e10-41f4-ce29-7bdf4ac29c8a"
      },
      "outputs": [
        {
          "name": "stdout",
          "output_type": "stream",
          "text": [
            "2.0.3\n"
          ]
        }
      ],
      "source": [
        "print(pd.__version__)"
      ]
    },
    {
      "cell_type": "code",
      "execution_count": null,
      "metadata": {
        "id": "K8-nSx97OWl1"
      },
      "outputs": [],
      "source": []
    }
  ],
  "metadata": {
    "accelerator": "GPU",
    "colab": {
      "gpuType": "T4",
      "provenance": [],
      "include_colab_link": true
    },
    "kernelspec": {
      "display_name": "Python 3",
      "name": "python3"
    },
    "language_info": {
      "name": "python"
    }
  },
  "nbformat": 4,
  "nbformat_minor": 0
}